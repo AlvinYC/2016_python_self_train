{
 "cells": [
  {
   "cell_type": "code",
   "execution_count": 1,
   "metadata": {
    "collapsed": false
   },
   "outputs": [],
   "source": [
    "#encoding utf-8\n",
    "import numpy as np\n",
    "import pandas as pd\n",
    "import xlrd\n",
    "import codecs\n",
    "from IPython.display import Image"
   ]
  },
  {
   "cell_type": "code",
   "execution_count": 2,
   "metadata": {
    "collapsed": false
   },
   "outputs": [],
   "source": [
    "#http://www.gregreda.com/2013/10/26/intro-to-pandas-data-structures/\n",
    "DTFQA = pd.read_excel('./db/parameter_DTF_POC.XLS', 'utterances 1-1')\n",
    "#DTFQA.title"
   ]
  },
  {
   "cell_type": "code",
   "execution_count": 3,
   "metadata": {
    "collapsed": false
   },
   "outputs": [
    {
     "data": {
      "text/html": [
       "<div>\n",
       "<table border=\"1\" class=\"dataframe\">\n",
       "  <thead>\n",
       "    <tr style=\"text-align: right;\">\n",
       "      <th></th>\n",
       "      <th>No.</th>\n",
       "    </tr>\n",
       "  </thead>\n",
       "  <tbody>\n",
       "    <tr>\n",
       "      <th>1</th>\n",
       "      <td>NaN</td>\n",
       "    </tr>\n",
       "    <tr>\n",
       "      <th>2</th>\n",
       "      <td>NaN</td>\n",
       "    </tr>\n",
       "  </tbody>\n",
       "</table>\n",
       "</div>"
      ],
      "text/plain": [
       "   No.\n",
       "1  NaN\n",
       "2  NaN"
      ]
     },
     "execution_count": 3,
     "metadata": {},
     "output_type": "execute_result"
    }
   ],
   "source": [
    "pd.DataFrame(DTFQA, index=[1,2],columns=['No.'])"
   ]
  },
  {
   "cell_type": "code",
   "execution_count": 7,
   "metadata": {
    "collapsed": false
   },
   "outputs": [
    {
     "data": {
      "text/plain": [
       "0      False\n",
       "1       True\n",
       "2       True\n",
       "3      False\n",
       "4       True\n",
       "5       True\n",
       "6      False\n",
       "7       True\n",
       "8       True\n",
       "9      False\n",
       "10      True\n",
       "11      True\n",
       "12     False\n",
       "13      True\n",
       "14      True\n",
       "15     False\n",
       "16      True\n",
       "17      True\n",
       "18     False\n",
       "19      True\n",
       "20      True\n",
       "21     False\n",
       "22      True\n",
       "23      True\n",
       "24     False\n",
       "25      True\n",
       "26      True\n",
       "27     False\n",
       "28      True\n",
       "29      True\n",
       "       ...  \n",
       "100    False\n",
       "101     True\n",
       "102     True\n",
       "103     True\n",
       "104     True\n",
       "105     True\n",
       "106     True\n",
       "107     True\n",
       "108     True\n",
       "109     True\n",
       "110    False\n",
       "111     True\n",
       "112     True\n",
       "113     True\n",
       "114     True\n",
       "115     True\n",
       "116     True\n",
       "117     True\n",
       "118     True\n",
       "119     True\n",
       "120    False\n",
       "121     True\n",
       "122     True\n",
       "123     True\n",
       "124     True\n",
       "125     True\n",
       "126     True\n",
       "127     True\n",
       "128     True\n",
       "129     True\n",
       "Name: No., dtype: bool"
      ]
     },
     "execution_count": 7,
     "metadata": {},
     "output_type": "execute_result"
    }
   ],
   "source": [
    "null_flag = DTFQA['No.'].isnull()\n",
    "\n",
    "for i in range(len(null_flag)+1):\n",
    "    QAid = DTFQA.get_value(i,'No.')\n",
    "    if DTFQA['No'][i].isnull() == False:\n",
    "        target_id = QAid\n",
    "        continue\n",
    "    else:\n",
    "        DTFQA['No.'][i] = target_id\n",
    "        \n",
    "    "
   ]
  },
  {
   "cell_type": "code",
   "execution_count": null,
   "metadata": {
    "collapsed": false
   },
   "outputs": [],
   "source": [
    "### POST PROCESS ###\n",
    "idx = DTFQA.iloc[:,0].values\n",
    "idx\n",
    "#np.where(idx!='nan')"
   ]
  },
  {
   "cell_type": "code",
   "execution_count": null,
   "metadata": {
    "collapsed": false
   },
   "outputs": [],
   "source": [
    "idxnan = DTFQA['No.'].index[DTFQA['No.'].apply(np.isnan)]\n",
    "#idxnan = DTFQA['No.'].index[2:8]\n",
    "idxnan"
   ]
  },
  {
   "cell_type": "code",
   "execution_count": null,
   "metadata": {
    "collapsed": false
   },
   "outputs": [],
   "source": [
    "xls_header = xlrd.open_workbook('./db/parameter_DTF_POC.XLS')\n",
    "Image('./db/DTF_QA_example.jpg')"
   ]
  },
  {
   "cell_type": "code",
   "execution_count": null,
   "metadata": {
    "collapsed": false
   },
   "outputs": [],
   "source": [
    "sheet_names =  xls_header.sheet_names()\n",
    "print('Sheet Names', sheet_names)"
   ]
  },
  {
   "cell_type": "code",
   "execution_count": null,
   "metadata": {
    "collapsed": false
   },
   "outputs": [],
   "source": [
    "xl_sheet = xls_header.sheet_by_name(sheet_names[3])"
   ]
  },
  {
   "cell_type": "code",
   "execution_count": null,
   "metadata": {
    "collapsed": false
   },
   "outputs": [],
   "source": [
    "## show row 1, col 1 context\n",
    "row1 = xl_sheet.row(0)\n",
    "col1 = xl_sheet.col(0)[1:5]\n",
    "print 'row 1 = ' + str(row1)\n",
    "print 'col 1 = ' + str(col1)"
   ]
  },
  {
   "cell_type": "code",
   "execution_count": null,
   "metadata": {
    "collapsed": false
   },
   "outputs": [],
   "source": [
    "num_cols = xl_sheet.ncols\n",
    "num_rows = xl_sheet.nrows - 1 # row num should exclude title\n",
    "print 'col # = ' + str(num_cols)\n",
    "print 'row # = ' + str(num_rows)"
   ]
  },
  {
   "cell_type": "code",
   "execution_count": null,
   "metadata": {
    "collapsed": false
   },
   "outputs": [],
   "source": [
    "for row_idx in range(0, num_rows):    # Iterate through rows\n",
    "    print ('-'*40)\n",
    "    print ('Row: %s' % row_idx)   # Print row number\n",
    "    for col_idx in range(0, num_cols):  # Iterate through columns\n",
    "        cell_obj = xl_sheet.cell(row_idx, col_idx)  # Get cell object by row, col\n",
    "        print ('Column: [%s] cell_obj: [%s]' % (col_idx, cell_obj))"
   ]
  }
 ],
 "metadata": {
  "anaconda-cloud": {},
  "kernelspec": {
   "display_name": "Python [default]",
   "language": "python",
   "name": "python2"
  },
  "language_info": {
   "codemirror_mode": {
    "name": "ipython",
    "version": 2
   },
   "file_extension": ".py",
   "mimetype": "text/x-python",
   "name": "python",
   "nbconvert_exporter": "python",
   "pygments_lexer": "ipython2",
   "version": "2.7.12"
  }
 },
 "nbformat": 4,
 "nbformat_minor": 1
}
