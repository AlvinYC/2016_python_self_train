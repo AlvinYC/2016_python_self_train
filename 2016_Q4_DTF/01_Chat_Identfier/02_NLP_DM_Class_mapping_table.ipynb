{
 "cells": [
  {
   "cell_type": "code",
   "execution_count": 1,
   "metadata": {
    "collapsed": true
   },
   "outputs": [],
   "source": [
    "#encoding utf-8\n",
    "import pandas as pd\n",
    "import numpy as np\n",
    "from IPython.display import Image\n",
    "import sys"
   ]
  },
  {
   "cell_type": "code",
   "execution_count": 2,
   "metadata": {
    "collapsed": false
   },
   "outputs": [
    {
     "data": {
      "text/html": [
       "<div>\n",
       "<table border=\"1\" class=\"dataframe\">\n",
       "  <thead>\n",
       "    <tr style=\"text-align: right;\">\n",
       "      <th></th>\n",
       "      <th>No.</th>\n",
       "      <th>utterances</th>\n",
       "      <th>intent</th>\n",
       "      <th>entity</th>\n",
       "    </tr>\n",
       "  </thead>\n",
       "  <tbody>\n",
       "    <tr>\n",
       "      <th>0</th>\n",
       "      <td>1</td>\n",
       "      <td>請問洗手間在哪?</td>\n",
       "      <td>問門市</td>\n",
       "      <td>分店::內部資訊,洗手間;</td>\n",
       "    </tr>\n",
       "    <tr>\n",
       "      <th>1</th>\n",
       "      <td>1</td>\n",
       "      <td>你們化妝室怎麼走?</td>\n",
       "      <td>問門市</td>\n",
       "      <td>分店::內部資訊,化妝室;</td>\n",
       "    </tr>\n",
       "    <tr>\n",
       "      <th>2</th>\n",
       "      <td>1</td>\n",
       "      <td>我想上廁所</td>\n",
       "      <td>問門市</td>\n",
       "      <td>分店::內部資訊,廁所;</td>\n",
       "    </tr>\n",
       "  </tbody>\n",
       "</table>\n",
       "</div>"
      ],
      "text/plain": [
       "  No. utterances intent         entity\n",
       "0   1   請問洗手間在哪?    問門市  分店::內部資訊,洗手間;\n",
       "1   1  你們化妝室怎麼走?    問門市  分店::內部資訊,化妝室;\n",
       "2   1      我想上廁所    問門市   分店::內部資訊,廁所;"
      ]
     },
     "execution_count": 2,
     "metadata": {},
     "output_type": "execute_result"
    }
   ],
   "source": [
    "DTFQA = pd.read_pickle('./db/DTFQA_v01')\n",
    "DTFQA.iloc[0:3,:]"
   ]
  },
  {
   "cell_type": "code",
   "execution_count": 3,
   "metadata": {
    "collapsed": false
   },
   "outputs": [
    {
     "data": {
      "text/html": [
       "<div>\n",
       "<table border=\"1\" class=\"dataframe\">\n",
       "  <thead>\n",
       "    <tr style=\"text-align: right;\">\n",
       "      <th></th>\n",
       "      <th>dm_class</th>\n",
       "      <th>nlp_class</th>\n",
       "      <th>nlp_name</th>\n",
       "    </tr>\n",
       "  </thead>\n",
       "  <tbody>\n",
       "    <tr>\n",
       "      <th>0</th>\n",
       "      <td>[7, 10]</td>\n",
       "      <td>NLP_Major_01</td>\n",
       "      <td>問差異</td>\n",
       "    </tr>\n",
       "    <tr>\n",
       "      <th>1</th>\n",
       "      <td>[17, 18, 13]</td>\n",
       "      <td>NLP_Major_02</td>\n",
       "      <td>問食材</td>\n",
       "    </tr>\n",
       "    <tr>\n",
       "      <th>2</th>\n",
       "      <td>[2, 9, 15, 16]</td>\n",
       "      <td>NLP_Major_03</td>\n",
       "      <td>問餐點</td>\n",
       "    </tr>\n",
       "    <tr>\n",
       "      <th>3</th>\n",
       "      <td>[18-1, 18-2]</td>\n",
       "      <td>NLP_Major_04</td>\n",
       "      <td>問食安</td>\n",
       "    </tr>\n",
       "    <tr>\n",
       "      <th>4</th>\n",
       "      <td>[4, 5, 5-1, 8, 3, 1]</td>\n",
       "      <td>NLP_Major_05</td>\n",
       "      <td>店內資訊</td>\n",
       "    </tr>\n",
       "    <tr>\n",
       "      <th>5</th>\n",
       "      <td>[6, 6-1]</td>\n",
       "      <td>NLP_Major_06</td>\n",
       "      <td>結帳</td>\n",
       "    </tr>\n",
       "    <tr>\n",
       "      <th>6</th>\n",
       "      <td>[11]</td>\n",
       "      <td>NLP_Major_07</td>\n",
       "      <td>鼎泰豐_WHAT</td>\n",
       "    </tr>\n",
       "  </tbody>\n",
       "</table>\n",
       "</div>"
      ],
      "text/plain": [
       "               dm_class     nlp_class  nlp_name\n",
       "0               [7, 10]  NLP_Major_01       問差異\n",
       "1          [17, 18, 13]  NLP_Major_02       問食材\n",
       "2        [2, 9, 15, 16]  NLP_Major_03       問餐點\n",
       "3          [18-1, 18-2]  NLP_Major_04       問食安\n",
       "4  [4, 5, 5-1, 8, 3, 1]  NLP_Major_05      店內資訊\n",
       "5              [6, 6-1]  NLP_Major_06        結帳\n",
       "6                  [11]  NLP_Major_07  鼎泰豐_WHAT"
      ]
     },
     "execution_count": 3,
     "metadata": {},
     "output_type": "execute_result"
    }
   ],
   "source": [
    "nlp_dm_series = { 'nlp_class': pd.Series(['NLP_Major_01', 'NLP_Major_02','NLP_Major_03','NLP_Major_04','NLP_Major_05',\\\n",
    "                                         'NLP_Major_06','NLP_Major_07']),\\\n",
    "                'nlp_name' : pd.Series([u'問差異',u'問食材',u'問餐點',u'問食安',u'店內資訊',u'結帳',u'鼎泰豐_WHAT']),\\\n",
    "                'dm_class' : pd.Series([['7','10'],['17','18','13'],['2','9','15','16'],['18-1','18-2'],\\\n",
    "                                        ['4','5','5-1','8','3','1'],['6','6-1'],['11']])\n",
    "                 }\n",
    "                                     \n",
    "NLP_DM_TABLE = pd.DataFrame(nlp_dm_series)\n",
    "NLP_DM_TABLE"
   ]
  },
  {
   "cell_type": "code",
   "execution_count": 4,
   "metadata": {
    "collapsed": false
   },
   "outputs": [
    {
     "name": "stdout",
     "output_type": "stream",
     "text": [
      "NLP_Major_01\n",
      "['7', '10']\n",
      "NLP_Major_02\n",
      "['17', '18', '13']\n",
      "NLP_Major_03\n",
      "['2', '9', '15', '16']\n",
      "NLP_Major_04\n",
      "['18-1', '18-2']\n",
      "NLP_Major_05\n",
      "['4', '5', '5-1', '8', '3', '1']\n",
      "NLP_Major_06\n",
      "['6', '6-1']\n",
      "NLP_Major_07\n",
      "['11']\n"
     ]
    }
   ],
   "source": [
    "DTFQA['nlp_class'] = 'none'\n",
    "DTFQA['nlp_name'] = 'none'\n",
    "for idx in range(len(NLP_DM_TABLE)):\n",
    "    print NLP_DM_TABLE['nlp_class'][idx]\n",
    "    print NLP_DM_TABLE['dm_class'][idx]\n",
    "    bitmask = DTFQA['No.'].isin(NLP_DM_TABLE['dm_class'][idx]) \n",
    "    DTFQA['nlp_class'][bitmask] = NLP_DM_TABLE['nlp_class'][idx]\n",
    "    DTFQA['nlp_name'][bitmask] = NLP_DM_TABLE['nlp_name'][idx]\n",
    "    "
   ]
  },
  {
   "cell_type": "code",
   "execution_count": 6,
   "metadata": {
    "collapsed": true
   },
   "outputs": [],
   "source": [
    "######### output\n",
    "DTFQA.to_pickle('./db/DTFQA_v02')"
   ]
  },
  {
   "cell_type": "code",
   "execution_count": 7,
   "metadata": {
    "collapsed": false,
    "scrolled": true
   },
   "outputs": [
    {
     "data": {
      "text/html": [
       "<div>\n",
       "<table border=\"1\" class=\"dataframe\">\n",
       "  <thead>\n",
       "    <tr style=\"text-align: right;\">\n",
       "      <th></th>\n",
       "      <th>No.</th>\n",
       "      <th>utterances</th>\n",
       "      <th>intent</th>\n",
       "      <th>entity</th>\n",
       "      <th>nlp_class</th>\n",
       "      <th>nlp_name</th>\n",
       "    </tr>\n",
       "  </thead>\n",
       "  <tbody>\n",
       "    <tr>\n",
       "      <th>0</th>\n",
       "      <td>1</td>\n",
       "      <td>請問洗手間在哪?</td>\n",
       "      <td>問門市</td>\n",
       "      <td>分店::內部資訊,洗手間;</td>\n",
       "      <td>NLP_Major_05</td>\n",
       "      <td>店內資訊</td>\n",
       "    </tr>\n",
       "    <tr>\n",
       "      <th>3</th>\n",
       "      <td>3</td>\n",
       "      <td>什麼時候不需要排隊?</td>\n",
       "      <td>問門市</td>\n",
       "      <td>分店::候位,排隊;</td>\n",
       "      <td>NLP_Major_05</td>\n",
       "      <td>店內資訊</td>\n",
       "    </tr>\n",
       "    <tr>\n",
       "      <th>6</th>\n",
       "      <td>4</td>\n",
       "      <td>你們員工的待遇是不是很高?</td>\n",
       "      <td>問門市</td>\n",
       "      <td>分店::服務生,待遇;</td>\n",
       "      <td>NLP_Major_05</td>\n",
       "      <td>店內資訊</td>\n",
       "    </tr>\n",
       "    <tr>\n",
       "      <th>9</th>\n",
       "      <td>5</td>\n",
       "      <td>店內服務生的素質都很棒，是否都挑選過?</td>\n",
       "      <td>問門市</td>\n",
       "      <td>分店::服務生,素質;</td>\n",
       "      <td>NLP_Major_05</td>\n",
       "      <td>店內資訊</td>\n",
       "    </tr>\n",
       "    <tr>\n",
       "      <th>12</th>\n",
       "      <td>5-1</td>\n",
       "      <td>服務生有受過特別訓練嗎?</td>\n",
       "      <td>問門市</td>\n",
       "      <td>分店::服務生,訓練;</td>\n",
       "      <td>NLP_Major_05</td>\n",
       "      <td>店內資訊</td>\n",
       "    </tr>\n",
       "    <tr>\n",
       "      <th>15</th>\n",
       "      <td>6</td>\n",
       "      <td>鼎泰豐收信用卡嗎?</td>\n",
       "      <td>問門市</td>\n",
       "      <td>消費::刷卡,信用卡;</td>\n",
       "      <td>NLP_Major_06</td>\n",
       "      <td>結帳</td>\n",
       "    </tr>\n",
       "    <tr>\n",
       "      <th>19</th>\n",
       "      <td>6-1</td>\n",
       "      <td>為什麼信義店只能付現?</td>\n",
       "      <td>問門市</td>\n",
       "      <td>消費::付現,付現;分店::門市,信義店;</td>\n",
       "      <td>NLP_Major_06</td>\n",
       "      <td>結帳</td>\n",
       "    </tr>\n",
       "    <tr>\n",
       "      <th>21</th>\n",
       "      <td>7</td>\n",
       "      <td>海外分店餐點和台灣門市餐點的不同?</td>\n",
       "      <td>問門市</td>\n",
       "      <td>分店::門市,海外分店;分店::門市,台灣門市;描述::比較,不同;</td>\n",
       "      <td>NLP_Major_01</td>\n",
       "      <td>問差異</td>\n",
       "    </tr>\n",
       "    <tr>\n",
       "      <th>24</th>\n",
       "      <td>8</td>\n",
       "      <td>店內的消費好像不便宜?</td>\n",
       "      <td>問門市</td>\n",
       "      <td>消費::感覺,便宜;</td>\n",
       "      <td>NLP_Major_05</td>\n",
       "      <td>店內資訊</td>\n",
       "    </tr>\n",
       "    <tr>\n",
       "      <th>27</th>\n",
       "      <td>11</td>\n",
       "      <td>鼎泰豐賣的是港式點心嗎?</td>\n",
       "      <td>問門市</td>\n",
       "      <td>分店::類型,港式點心;</td>\n",
       "      <td>NLP_Major_07</td>\n",
       "      <td>鼎泰豐_WHAT</td>\n",
       "    </tr>\n",
       "  </tbody>\n",
       "</table>\n",
       "</div>"
      ],
      "text/plain": [
       "    No.           utterances intent                              entity  \\\n",
       "0     1             請問洗手間在哪?    問門市                       分店::內部資訊,洗手間;   \n",
       "3     3           什麼時候不需要排隊?    問門市                          分店::候位,排隊;   \n",
       "6     4        你們員工的待遇是不是很高?    問門市                         分店::服務生,待遇;   \n",
       "9     5  店內服務生的素質都很棒，是否都挑選過?    問門市                         分店::服務生,素質;   \n",
       "12  5-1         服務生有受過特別訓練嗎?    問門市                         分店::服務生,訓練;   \n",
       "15    6            鼎泰豐收信用卡嗎?    問門市                         消費::刷卡,信用卡;   \n",
       "19  6-1          為什麼信義店只能付現?    問門市               消費::付現,付現;分店::門市,信義店;   \n",
       "21    7    海外分店餐點和台灣門市餐點的不同?    問門市  分店::門市,海外分店;分店::門市,台灣門市;描述::比較,不同;   \n",
       "24    8          店內的消費好像不便宜?    問門市                          消費::感覺,便宜;   \n",
       "27   11         鼎泰豐賣的是港式點心嗎?    問門市                        分店::類型,港式點心;   \n",
       "\n",
       "       nlp_class  nlp_name  \n",
       "0   NLP_Major_05      店內資訊  \n",
       "3   NLP_Major_05      店內資訊  \n",
       "6   NLP_Major_05      店內資訊  \n",
       "9   NLP_Major_05      店內資訊  \n",
       "12  NLP_Major_05      店內資訊  \n",
       "15  NLP_Major_06        結帳  \n",
       "19  NLP_Major_06        結帳  \n",
       "21  NLP_Major_01       問差異  \n",
       "24  NLP_Major_05      店內資訊  \n",
       "27  NLP_Major_07  鼎泰豐_WHAT  "
      ]
     },
     "execution_count": 7,
     "metadata": {},
     "output_type": "execute_result"
    }
   ],
   "source": [
    "######### verify output data\n",
    "#DTFQA = pd.read_pickle('./db/DTFQA_v02')\n",
    "DTFQA.iloc[[0,3,6,9,12,15,19,21,24,27],:]"
   ]
  },
  {
   "cell_type": "code",
   "execution_count": null,
   "metadata": {
    "collapsed": true
   },
   "outputs": [],
   "source": [
    "###########################################################################\n",
    "#######################  以下都是測試程式 ##################################"
   ]
  },
  {
   "cell_type": "code",
   "execution_count": null,
   "metadata": {
    "collapsed": false
   },
   "outputs": [],
   "source": [
    "#####################################################\n",
    "# 方法二: 用最多 LOOP, 可以達到目的, 但是可讀性低\n",
    "#####################################################\n",
    "DTFQA['nlp_class'] = 'none'\n",
    "for nlp_major,dm_class in hash_NLP_DM.iteritems():\n",
    "    print nlp_major\n",
    "    print dm_class\n",
    "    for dm_id in dm_class:\n",
    "        for idx in range(len(DTFQA['No.'])):\n",
    "            if DTFQA['No.'][idx] == dm_id:\n",
    "                DTFQA['nlp_class'] = nlp_major\n"
   ]
  },
  {
   "cell_type": "code",
   "execution_count": null,
   "metadata": {
    "collapsed": true
   },
   "outputs": [],
   "source": [
    "#####################################################\n",
    "# 方法三: 少一層 LOOP, 可以達到目的, 但是可讀性低\n",
    "#####################################################\n",
    "DTFQA['nlp_class'] = 'none'\n",
    "for nlp_major,dm_class in hash_NLP_DM.iteritems():\n",
    "    print nlp_major\n",
    "    print dm_class\n",
    "    bitmask = [False] * len(DTFQA['No.'])\n",
    "    for dm_id in dm_class:\n",
    "        bitmask |= DTFQA['No.'].str.contains('^'+dm_id+'$')\n",
    "#     print bitmask \n",
    "    DTFQA['nlp_class'][bitmask] = nlp_major    \n",
    "    "
   ]
  },
  {
   "cell_type": "code",
   "execution_count": null,
   "metadata": {
    "collapsed": true
   },
   "outputs": [],
   "source": [
    "#####################################################\n",
    "# hash 轉 dataframe\n",
    "#####################################################\n",
    "new_df = pd.DataFrame(hash_NLP_DM.items())\n",
    "new_df"
   ]
  },
  {
   "cell_type": "code",
   "execution_count": null,
   "metadata": {
    "collapsed": true
   },
   "outputs": [],
   "source": [
    "###################################################################\n",
    "#######################  變數測試 ##################################"
   ]
  },
  {
   "cell_type": "code",
   "execution_count": null,
   "metadata": {
    "collapsed": true
   },
   "outputs": [],
   "source": [
    "print sys.stdout.encoding"
   ]
  },
  {
   "cell_type": "code",
   "execution_count": null,
   "metadata": {
    "collapsed": false
   },
   "outputs": [],
   "source": [
    "hash_NLP_DM['NLP_Major_01']"
   ]
  },
  {
   "cell_type": "code",
   "execution_count": null,
   "metadata": {
    "collapsed": false
   },
   "outputs": [],
   "source": [
    "DTFQA.query(\"'No.' == '6-1'\")"
   ]
  },
  {
   "cell_type": "code",
   "execution_count": null,
   "metadata": {
    "collapsed": false
   },
   "outputs": [],
   "source": [
    "print dm_class\n",
    "(DTFQA['No.'] == '1') | (DTFQA['No.'] == '3')"
   ]
  },
  {
   "cell_type": "code",
   "execution_count": null,
   "metadata": {
    "collapsed": true
   },
   "outputs": [],
   "source": [
    "dm_class[0]"
   ]
  },
  {
   "cell_type": "code",
   "execution_count": null,
   "metadata": {
    "collapsed": false
   },
   "outputs": [],
   "source": [
    "type(DTFQA['No.'])"
   ]
  },
  {
   "cell_type": "code",
   "execution_count": null,
   "metadata": {
    "collapsed": false
   },
   "outputs": [],
   "source": [
    "type(dm_class[0])"
   ]
  },
  {
   "cell_type": "code",
   "execution_count": null,
   "metadata": {
    "collapsed": false
   },
   "outputs": [],
   "source": [
    "print DTFQA['No.'].str.contains('^1$')"
   ]
  },
  {
   "cell_type": "code",
   "execution_count": null,
   "metadata": {
    "collapsed": false
   },
   "outputs": [],
   "source": [
    "len(DTFQA['No.'])"
   ]
  },
  {
   "cell_type": "code",
   "execution_count": null,
   "metadata": {
    "collapsed": false
   },
   "outputs": [],
   "source": [
    "DTFQA"
   ]
  },
  {
   "cell_type": "code",
   "execution_count": null,
   "metadata": {
    "collapsed": false
   },
   "outputs": [],
   "source": [
    "DTFQA.iloc[30:50,:]"
   ]
  },
  {
   "cell_type": "code",
   "execution_count": null,
   "metadata": {
    "collapsed": false
   },
   "outputs": [],
   "source": [
    "bitmask.reshape(26,5)"
   ]
  },
  {
   "cell_type": "code",
   "execution_count": null,
   "metadata": {
    "collapsed": false
   },
   "outputs": [],
   "source": [
    "DTFQA"
   ]
  },
  {
   "cell_type": "code",
   "execution_count": null,
   "metadata": {
    "collapsed": false
   },
   "outputs": [],
   "source": [
    "nlp_dm_series = { 'nlp_class': pd.Series(['NLP_Major_01', 'NLP_Major_02','NLP_Major_03','NLP_Major_04','NLP_Major_05',\\\n",
    "                                         'NLP_Major_06','NLP_Major_07']),\\\n",
    "                'nlp_name' : pd.Series([u'問差異',u'問食材',u'問餐點',u'問食安',u'店內資訊',u'結帳',u'鼎泰豐_WHAT']),\\\n",
    "                'dm_class' : pd.Series([['7','10'],['17','18','13'],['2','9','15','16'],['18-1','18-2'],\\\n",
    "                                        ['4','5','5-1','8','3','1'],['6','6-1'],['11']])\n",
    "                 }\n",
    "                                     \n",
    "NLP_DM_TABLE = pd.DataFrame(nlp_dm_series)                          "
   ]
  },
  {
   "cell_type": "code",
   "execution_count": null,
   "metadata": {
    "collapsed": false
   },
   "outputs": [],
   "source": [
    "NLP_DM_TABLE"
   ]
  },
  {
   "cell_type": "code",
   "execution_count": null,
   "metadata": {
    "collapsed": false
   },
   "outputs": [],
   "source": [
    "len(NLP_DM_TABLE)"
   ]
  },
  {
   "cell_type": "code",
   "execution_count": null,
   "metadata": {
    "collapsed": true
   },
   "outputs": [],
   "source": [
    "#############################################################################\n",
    "############################## 用 numpy 造對應表 #############################\n",
    "#############################################################################\n",
    "nlptype = np.dtype({\n",
    "                        'names':  ['nlp_name', 'nlp_id'],\n",
    "                        'formats':['<U8' , 'S32' ]\n",
    "                      })\n",
    "\n",
    "NLP_CLASS = np.array([(u'問差異',u'NLP_Major_01'),(u'問食材',u'NLP_Major_02'),\\\n",
    "                      (u'問餐點',u'NLP_Major_03'),(u'問食安',u'NLP_Major_04'),\\\n",
    "                      (u'店內資訊',u'NLP_Major_05'),(u'結帳',u'NLP_Major_06'),\\\n",
    "                      (u'鼎泰豐_WHAT',u'NLP_Major_07')],dtype=nlptype)\n",
    "print repr(NLP_CLASS).decode(\"unicode-escape\")"
   ]
  },
  {
   "cell_type": "code",
   "execution_count": 5,
   "metadata": {
    "collapsed": true
   },
   "outputs": [],
   "source": [
    "#############################################################################\n",
    "############################## 用 hash 造對應表 #############################\n",
    "#############################################################################\n",
    "hash_NLP_DM = {u'NLP_Major_01':['7','10'],\\\n",
    "               u'NLP_Major_02':['17','18','13'],\\\n",
    "               u'NLP_Major_03':['2','9','15','16'],\\\n",
    "               u'NLP_Major_04':['18-1','18-2'],\\\n",
    "               u'NLP_Major_05':['4','5','5-1','8','3','1'],\\\n",
    "               u'NLP_Major_06':['6','6-1'],\\\n",
    "               u'NLP_Major_07':['11']\n",
    "              }"
   ]
  },
  {
   "cell_type": "code",
   "execution_count": null,
   "metadata": {
    "collapsed": true
   },
   "outputs": [],
   "source": [
    "DTFQA['nlp_class'] = 'none'\n",
    "for nlp_major,dm_class in hash_NLP_DM.iteritems():\n",
    "    print nlp_major\n",
    "    print dm_class\n",
    "    bitmask = DTFQA['No.'].isin(dm_class) \n",
    "    DTFQA['nlp_class'][bitmask] = nlp_major"
   ]
  },
  {
   "cell_type": "code",
   "execution_count": 8,
   "metadata": {
    "collapsed": false
   },
   "outputs": [
    {
     "data": {
      "text/plain": [
       "130"
      ]
     },
     "execution_count": 8,
     "metadata": {},
     "output_type": "execute_result"
    }
   ],
   "source": [
    "len(DTFQA['nlp_class'])"
   ]
  },
  {
   "cell_type": "code",
   "execution_count": null,
   "metadata": {
    "collapsed": true
   },
   "outputs": [],
   "source": []
  }
 ],
 "metadata": {
  "anaconda-cloud": {},
  "kernelspec": {
   "display_name": "Python [default]",
   "language": "python",
   "name": "python2"
  },
  "language_info": {
   "codemirror_mode": {
    "name": "ipython",
    "version": 2
   },
   "file_extension": ".py",
   "mimetype": "text/x-python",
   "name": "python",
   "nbconvert_exporter": "python",
   "pygments_lexer": "ipython2",
   "version": "2.7.12"
  }
 },
 "nbformat": 4,
 "nbformat_minor": 1
}
