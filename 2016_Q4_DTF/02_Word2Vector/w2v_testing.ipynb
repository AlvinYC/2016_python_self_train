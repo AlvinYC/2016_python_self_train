{
 "cells": [
  {
   "cell_type": "code",
   "execution_count": 3,
   "metadata": {
    "collapsed": false
   },
   "outputs": [],
   "source": [
    "#encoding=utf-8\n",
    "import gensim\n",
    "import codecs\n",
    "model=gensim.models.Word2Vec.load_word2vec_format('./bin/mobile01_ptt.bin',binary=True)#mobile01+ptt model\n",
    "#model=gensim.models.Word2Vec.load_word2vec_format('mobile01.bin',binary=True)#mobile01 model\n",
    "#model=gensim.models.Word2Vec.load_word2vec_format('res_article.bin',binary=True)#PTT model"
   ]
  },
  {
   "cell_type": "code",
   "execution_count": null,
   "metadata": {
    "collapsed": true
   },
   "outputs": [],
   "source": [
    "\n",
    "#####for DTF 130 sentence test#######\n",
    "inputFile=codecs.open(\"test_sentence_after_cut.txt\", \"r\", \"utf-8\")\n",
    "output=codecs.open(\"result_dtf_mobile01_ptt.txt\", \"w\", \"utf-8\")\n",
    "for line in inputFile:\n",
    "    data_array=line.strip().split(',')\n",
    "    output.write(line)\n",
    "    for i in data_array:\n",
    "        try:\n",
    "            s=model.most_similar(i)\n",
    "            output.write('##'+i+'##'+'\\n')\n",
    "            for item in s:\n",
    "                #output.write('##'+data_array[i]+'##'+'\\n')\n",
    "                output.write(item[0]+'\\n')\n",
    "        except:\n",
    "            output.write('##'+i+'not in vector'+'##'+'\\n')     \n",
    "    output.write('#########################################'+'\\n')           \n"
   ]
  },
  {
   "cell_type": "code",
   "execution_count": 6,
   "metadata": {
    "collapsed": false
   },
   "outputs": [
    {
     "name": "stdout",
     "output_type": "stream",
     "text": [
      "味道 0.676154196262\n",
      "奶味 0.575945854187\n",
      "調味 0.53888130188\n",
      "風味 0.538551747799\n",
      "滋味 0.5365639925\n",
      "口感 0.515639185905\n",
      "酒味 0.501008331776\n",
      "胃口 0.499921172857\n",
      "配料 0.496207028627\n",
      "吃法 0.495409786701\n"
     ]
    }
   ],
   "source": [
    "#####To find similar word#####   \n",
    "#out_similar=codecs.open(\"similar_words.txt\", \"w\", \"utf-8\")    \n",
    "#out_similar.write('##'+a+'##'+'\\n')\n",
    "\n",
    "a=u'口味'#enter word here\n",
    "s=model.most_similar(a)\n",
    "for item in s:\n",
    "    print item[0],item[1]\n",
    "    #out_similar.write(item[0]+'\\n')\n"
   ]
  },
  {
   "cell_type": "code",
   "execution_count": null,
   "metadata": {
    "collapsed": true
   },
   "outputs": [],
   "source": []
  }
 ],
 "metadata": {
  "anaconda-cloud": {},
  "kernelspec": {
   "display_name": "Python [default]",
   "language": "python",
   "name": "python2"
  },
  "language_info": {
   "codemirror_mode": {
    "name": "ipython",
    "version": 2
   },
   "file_extension": ".py",
   "mimetype": "text/x-python",
   "name": "python",
   "nbconvert_exporter": "python",
   "pygments_lexer": "ipython2",
   "version": "2.7.12"
  }
 },
 "nbformat": 4,
 "nbformat_minor": 1
}
