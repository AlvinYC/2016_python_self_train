{
 "cells": [
  {
   "cell_type": "code",
   "execution_count": 36,
   "metadata": {
    "collapsed": true
   },
   "outputs": [],
   "source": [
    "#encoding utf-8\n",
    "import numpy as np\n",
    "import pandas as pd\n",
    "from IPython.display import Image\n",
    "import json\n",
    "import urllib2\n",
    "import re\n",
    "import itertools\n",
    "from time import sleep"
   ]
  },
  {
   "cell_type": "code",
   "execution_count": 2,
   "metadata": {
    "collapsed": true
   },
   "outputs": [],
   "source": [
    "NN_POS_PAIR_EXT = pd.read_pickle('./NN_POS_PAIR_EXT')\n",
    "NV_POS_PAIR_EXT = pd.read_pickle('./NV_POS_PAIR_EXT')"
   ]
  },
  {
   "cell_type": "code",
   "execution_count": 3,
   "metadata": {
    "collapsed": true
   },
   "outputs": [],
   "source": [
    "##################################\n",
    "#     Jieba class definition\n",
    "##################################\n",
    "#data={u'sentence': u'我想吃晚餐'}\n",
    "\n",
    "class jieba_seg(object):\n",
    "    def __init__(self):\n",
    "        self.jebareq = urllib2.Request('http://104.199.137.211/dtf_poc')\n",
    "        #req = urllib2.Request('http://104.199.137.211/jieba_segmentation')\n",
    "        self.ret_json = ()\n",
    "        proxy = urllib2.ProxyHandler({})\n",
    "        opener = urllib2.build_opener(proxy)\n",
    "        urllib2.install_opener(opener)      \n",
    "        \n",
    "    def do_seg(self,data):\n",
    "        ToDMDataJson=json.dumps(data)\n",
    "         \n",
    "        self.jebareq.add_header('Content-Type', 'application/json')\n",
    "        f = urllib2.urlopen(self.jebareq, ToDMDataJson, timeout=12)                    \n",
    "        decodejson= json.load(f)\n",
    "        self.ret_json = json.dumps(decodejson, ensure_ascii=False)\n",
    "        return self"
   ]
  },
  {
   "cell_type": "code",
   "execution_count": 41,
   "metadata": {
    "collapsed": false
   },
   "outputs": [
    {
     "name": "stdout",
     "output_type": "stream",
     "text": [
      "{\"term\": [\"鼎泰豐\", \"的\", \"茶\", \"讓\", \"我\", \"很\", \"想\", \"喝\", \"?\"], \"pos\": [\"dtfbrand\", \"uj\", \"n\", \"v\", \"r\", \"d\", \"v\", \"vg\", \"x\"]}\n"
     ]
    }
   ],
   "source": [
    "# single word segmentation test\n",
    "term = np.array([])\n",
    "pos  = np.array([])\n",
    "data={u'sentence': u'鼎泰豐的茶讓我很想喝?'}\n",
    "jeba = jieba_seg()   \n",
    "jeba.do_seg(data)\n",
    "j_format = json.loads(jeba.ret_json)\n",
    "#print repr(j_format['term']).decode(\"unicode-escape\")\n",
    "print jeba.ret_json"
   ]
  },
  {
   "cell_type": "code",
   "execution_count": 42,
   "metadata": {
    "collapsed": false
   },
   "outputs": [
    {
     "data": {
      "text/plain": [
       "[u'dtfbrand', u'uj', u'n', u'v', u'r', u'd', u'v', u'vg', u'x']"
      ]
     },
     "execution_count": 42,
     "metadata": {},
     "output_type": "execute_result"
    }
   ],
   "source": [
    "j_format['pos']"
   ]
  },
  {
   "cell_type": "code",
   "execution_count": 43,
   "metadata": {
    "collapsed": false
   },
   "outputs": [
    {
     "name": "stdout",
     "output_type": "stream",
     "text": [
      "idx_n = [ True False  True False False False False False False]\n",
      "idx_v - [False False False  True False False  True  True False]\n"
     ]
    }
   ],
   "source": [
    "# POS PAIR extration\n",
    "# NN POS PAIR\n",
    "idx_n = np.array([bool(re.search(u'branch.*|^n$|dtf.*|ingredient', element)) for element in j_format['pos']])\n",
    "idx_v = np.array([bool(re.search(u'^v$|^vg$', element)) for element in j_format['pos']])\n",
    "print 'idx_n = ' + str(idx_n)\n",
    "print 'idx_v - ' + str(idx_v)\n",
    "# NV POS PAIR"
   ]
  },
  {
   "cell_type": "code",
   "execution_count": 44,
   "metadata": {
    "collapsed": false
   },
   "outputs": [
    {
     "name": "stdout",
     "output_type": "stream",
     "text": [
      "[u'dtfbrand' u'n']\n",
      "array([u'鼎泰豐', u'茶'], \n",
      "      dtype='<U3')\n",
      "-------------------------------------------------------------------\n",
      "array([u'讓', u'想', u'喝'], \n",
      "      dtype='<U3')\n"
     ]
    }
   ],
   "source": [
    "QUERY_NPOS  = np.array(j_format['pos'])[idx_n]\n",
    "QUERY_NTERM = np.array(j_format['term'])[idx_n]\n",
    "QUERY_VTERM = np.array(j_format['term'])[idx_v]\n",
    "print QUERY_NPOS\n",
    "print repr(QUERY_NTERM).decode('unicode-escape')\n",
    "print '-------------------------------------------------------------------'\n",
    "print repr(QUERY_VTERM).decode('unicode-escape')"
   ]
  },
  {
   "cell_type": "code",
   "execution_count": 45,
   "metadata": {
    "collapsed": false
   },
   "outputs": [
    {
     "name": "stdout",
     "output_type": "stream",
     "text": [
      "[(u'dtfbrand', u'讓'), (u'dtfbrand', u'喝'), (u'dtfbrand', u'想'), (u'n', u'讓'), (u'n', u'喝'), (u'n', u'想')]\n"
     ]
    }
   ],
   "source": [
    "# nn pair for query sentence\n",
    "QUERY_NV_PAIR = list(itertools.product(set(QUERY_NPOS),set(QUERY_VTERM)))\n",
    "print repr(QUERY_NV_PAIR).decode('unicode-escape')"
   ]
  },
  {
   "cell_type": "code",
   "execution_count": null,
   "metadata": {
    "collapsed": false
   },
   "outputs": [],
   "source": [
    "#term_n = j_format[idx_n]\n",
    "type(j_format['pos'])"
   ]
  },
  {
   "cell_type": "code",
   "execution_count": 48,
   "metadata": {
    "collapsed": false
   },
   "outputs": [
    {
     "data": {
      "text/plain": [
       "(u'dtfbrand', u'\\u8b93')"
      ]
     },
     "execution_count": 48,
     "metadata": {},
     "output_type": "execute_result"
    }
   ],
   "source": [
    "#np.array(j_format['pos'])[idx_n]\n",
    "QUERY_NV_PAIR[0]"
   ]
  },
  {
   "cell_type": "code",
   "execution_count": 49,
   "metadata": {
    "collapsed": false
   },
   "outputs": [
    {
     "name": "stdout",
     "output_type": "stream",
     "text": [
      "(u'dtfbrand', u'讓')\n",
      "(u'dtfbrand', u'喝')\n",
      "(u'dtfbrand', u'想')\n",
      "(u'n', u'讓')\n",
      "(u'n', u'喝')\n",
      "(u'n', u'想')\n"
     ]
    }
   ],
   "source": [
    "for idx in range(len(QUERY_NV_PAIR)):    \n",
    "    if QUERY_NV_PAIR[idx] not in NV_POS_PAIR_EXT:\n",
    "        print repr(QUERY_NV_PAIR[idx]).decode('unicode-escape')"
   ]
  },
  {
   "cell_type": "code",
   "execution_count": 84,
   "metadata": {
    "collapsed": false
   },
   "outputs": [
    {
     "data": {
      "text/html": [
       "<div>\n",
       "<table border=\"1\" class=\"dataframe\">\n",
       "  <thead>\n",
       "    <tr style=\"text-align: right;\">\n",
       "      <th></th>\n",
       "      <th>NPOS</th>\n",
       "      <th>VTERM</th>\n",
       "    </tr>\n",
       "  </thead>\n",
       "  <tbody>\n",
       "    <tr>\n",
       "      <th>4</th>\n",
       "      <td>ingredient</td>\n",
       "      <td>想</td>\n",
       "    </tr>\n",
       "    <tr>\n",
       "      <th>18</th>\n",
       "      <td>dtfxiaolongbao</td>\n",
       "      <td>想</td>\n",
       "    </tr>\n",
       "    <tr>\n",
       "      <th>23</th>\n",
       "      <td>dtfdrink</td>\n",
       "      <td>想</td>\n",
       "    </tr>\n",
       "    <tr>\n",
       "      <th>30</th>\n",
       "      <td>dtffoodtype</td>\n",
       "      <td>想</td>\n",
       "    </tr>\n",
       "    <tr>\n",
       "      <th>42</th>\n",
       "      <td>dtfsoup</td>\n",
       "      <td>想</td>\n",
       "    </tr>\n",
       "    <tr>\n",
       "      <th>53</th>\n",
       "      <td>n</td>\n",
       "      <td>想</td>\n",
       "    </tr>\n",
       "    <tr>\n",
       "      <th>73</th>\n",
       "      <td>dtfingredient</td>\n",
       "      <td>想</td>\n",
       "    </tr>\n",
       "    <tr>\n",
       "      <th>94</th>\n",
       "      <td>branchinnerinfob</td>\n",
       "      <td>想</td>\n",
       "    </tr>\n",
       "  </tbody>\n",
       "</table>\n",
       "</div>"
      ],
      "text/plain": [
       "                NPOS VTERM\n",
       "4         ingredient     想\n",
       "18    dtfxiaolongbao     想\n",
       "23          dtfdrink     想\n",
       "30       dtffoodtype     想\n",
       "42           dtfsoup     想\n",
       "53                 n     想\n",
       "73     dtfingredient     想\n",
       "94  branchinnerinfob     想"
      ]
     },
     "execution_count": 84,
     "metadata": {},
     "output_type": "execute_result"
    }
   ],
   "source": [
    "#idx = np.where(NV_POS_PAIR_EXT['NPOS'] == 'dtfbrand')\n",
    "idx = np.where(NV_POS_PAIR_EXT['VTERM'] == u'想')\n",
    "#idx\n",
    "NV_POS_PAIR_EXT.iloc[idx[0],:]"
   ]
  },
  {
   "cell_type": "code",
   "execution_count": 53,
   "metadata": {
    "collapsed": false
   },
   "outputs": [
    {
     "data": {
      "text/html": [
       "<div>\n",
       "<table border=\"1\" class=\"dataframe\">\n",
       "  <thead>\n",
       "    <tr style=\"text-align: right;\">\n",
       "      <th></th>\n",
       "      <th>NPOS</th>\n",
       "      <th>VTERM</th>\n",
       "    </tr>\n",
       "  </thead>\n",
       "  <tbody>\n",
       "    <tr>\n",
       "      <th>0</th>\n",
       "      <td>ingredient</td>\n",
       "      <td>來</td>\n",
       "    </tr>\n",
       "    <tr>\n",
       "      <th>1</th>\n",
       "      <td>ingredient</td>\n",
       "      <td>加</td>\n",
       "    </tr>\n",
       "    <tr>\n",
       "      <th>2</th>\n",
       "      <td>ingredient</td>\n",
       "      <td>吃</td>\n",
       "    </tr>\n",
       "    <tr>\n",
       "      <th>3</th>\n",
       "      <td>ingredient</td>\n",
       "      <td>含有</td>\n",
       "    </tr>\n",
       "    <tr>\n",
       "      <th>4</th>\n",
       "      <td>ingredient</td>\n",
       "      <td>想</td>\n",
       "    </tr>\n",
       "    <tr>\n",
       "      <th>5</th>\n",
       "      <td>ingredient</td>\n",
       "      <td>放</td>\n",
       "    </tr>\n",
       "    <tr>\n",
       "      <th>6</th>\n",
       "      <td>ingredient</td>\n",
       "      <td>是</td>\n",
       "    </tr>\n",
       "    <tr>\n",
       "      <th>7</th>\n",
       "      <td>ingredient</td>\n",
       "      <td>會</td>\n",
       "    </tr>\n",
       "    <tr>\n",
       "      <th>8</th>\n",
       "      <td>ingredient</td>\n",
       "      <td>有</td>\n",
       "    </tr>\n",
       "    <tr>\n",
       "      <th>9</th>\n",
       "      <td>ingredient</td>\n",
       "      <td>看起</td>\n",
       "    </tr>\n",
       "    <tr>\n",
       "      <th>10</th>\n",
       "      <td>ingredient</td>\n",
       "      <td>知道</td>\n",
       "    </tr>\n",
       "    <tr>\n",
       "      <th>11</th>\n",
       "      <td>ingredient</td>\n",
       "      <td>賣</td>\n",
       "    </tr>\n",
       "    <tr>\n",
       "      <th>12</th>\n",
       "      <td>dtfxiaolongbao</td>\n",
       "      <td>介紹</td>\n",
       "    </tr>\n",
       "    <tr>\n",
       "      <th>13</th>\n",
       "      <td>dtfxiaolongbao</td>\n",
       "      <td>來</td>\n",
       "    </tr>\n",
       "    <tr>\n",
       "      <th>14</th>\n",
       "      <td>dtfxiaolongbao</td>\n",
       "      <td>加</td>\n",
       "    </tr>\n",
       "    <tr>\n",
       "      <th>15</th>\n",
       "      <td>dtfxiaolongbao</td>\n",
       "      <td>吃</td>\n",
       "    </tr>\n",
       "    <tr>\n",
       "      <th>16</th>\n",
       "      <td>dtfxiaolongbao</td>\n",
       "      <td>問</td>\n",
       "    </tr>\n",
       "    <tr>\n",
       "      <th>17</th>\n",
       "      <td>dtfxiaolongbao</td>\n",
       "      <td>幫</td>\n",
       "    </tr>\n",
       "    <tr>\n",
       "      <th>18</th>\n",
       "      <td>dtfxiaolongbao</td>\n",
       "      <td>想</td>\n",
       "    </tr>\n",
       "    <tr>\n",
       "      <th>19</th>\n",
       "      <td>dtfxiaolongbao</td>\n",
       "      <td>是</td>\n",
       "    </tr>\n",
       "    <tr>\n",
       "      <th>20</th>\n",
       "      <td>dtfxiaolongbao</td>\n",
       "      <td>會</td>\n",
       "    </tr>\n",
       "    <tr>\n",
       "      <th>21</th>\n",
       "      <td>dtfxiaolongbao</td>\n",
       "      <td>有</td>\n",
       "    </tr>\n",
       "    <tr>\n",
       "      <th>22</th>\n",
       "      <td>dtfxiaolongbao</td>\n",
       "      <td>起來</td>\n",
       "    </tr>\n",
       "    <tr>\n",
       "      <th>23</th>\n",
       "      <td>dtfdrink</td>\n",
       "      <td>想</td>\n",
       "    </tr>\n",
       "    <tr>\n",
       "      <th>24</th>\n",
       "      <td>dtfdrink</td>\n",
       "      <td>是</td>\n",
       "    </tr>\n",
       "    <tr>\n",
       "      <th>25</th>\n",
       "      <td>dtfdrink</td>\n",
       "      <td>知道</td>\n",
       "    </tr>\n",
       "    <tr>\n",
       "      <th>26</th>\n",
       "      <td>dtfdrink</td>\n",
       "      <td>喝</td>\n",
       "    </tr>\n",
       "    <tr>\n",
       "      <th>27</th>\n",
       "      <td>dtffoodtype</td>\n",
       "      <td>列出</td>\n",
       "    </tr>\n",
       "    <tr>\n",
       "      <th>28</th>\n",
       "      <td>dtffoodtype</td>\n",
       "      <td>吃</td>\n",
       "    </tr>\n",
       "    <tr>\n",
       "      <th>29</th>\n",
       "      <td>dtffoodtype</td>\n",
       "      <td>幫</td>\n",
       "    </tr>\n",
       "    <tr>\n",
       "      <th>...</th>\n",
       "      <td>...</td>\n",
       "      <td>...</td>\n",
       "    </tr>\n",
       "    <tr>\n",
       "      <th>1067</th>\n",
       "      <td>dtffoodkind</td>\n",
       "      <td>剛吃</td>\n",
       "    </tr>\n",
       "    <tr>\n",
       "      <th>1068</th>\n",
       "      <td>dtffoodkind</td>\n",
       "      <td>嚐</td>\n",
       "    </tr>\n",
       "    <tr>\n",
       "      <th>1069</th>\n",
       "      <td>dtffoodkind</td>\n",
       "      <td>買</td>\n",
       "    </tr>\n",
       "    <tr>\n",
       "      <th>1070</th>\n",
       "      <td>dtffoodkind</td>\n",
       "      <td>先幫</td>\n",
       "    </tr>\n",
       "    <tr>\n",
       "      <th>1071</th>\n",
       "      <td>dtffoodkind</td>\n",
       "      <td>還幫</td>\n",
       "    </tr>\n",
       "    <tr>\n",
       "      <th>1072</th>\n",
       "      <td>dtffoodkind</td>\n",
       "      <td>幫忙</td>\n",
       "    </tr>\n",
       "    <tr>\n",
       "      <th>1073</th>\n",
       "      <td>dtffoodkind</td>\n",
       "      <td>替</td>\n",
       "    </tr>\n",
       "    <tr>\n",
       "      <th>1074</th>\n",
       "      <td>dtffoodkind</td>\n",
       "      <td>地幫</td>\n",
       "    </tr>\n",
       "    <tr>\n",
       "      <th>1075</th>\n",
       "      <td>dtffoodkind</td>\n",
       "      <td>會幫</td>\n",
       "    </tr>\n",
       "    <tr>\n",
       "      <th>1076</th>\n",
       "      <td>dtffoodkind</td>\n",
       "      <td>先給</td>\n",
       "    </tr>\n",
       "    <tr>\n",
       "      <th>1077</th>\n",
       "      <td>dtffoodkind</td>\n",
       "      <td>拿給</td>\n",
       "    </tr>\n",
       "    <tr>\n",
       "      <th>1078</th>\n",
       "      <td>dtffoodkind</td>\n",
       "      <td>遞給</td>\n",
       "    </tr>\n",
       "    <tr>\n",
       "      <th>1079</th>\n",
       "      <td>dtffoodkind</td>\n",
       "      <td>的給</td>\n",
       "    </tr>\n",
       "    <tr>\n",
       "      <th>1080</th>\n",
       "      <td>dtffoodkind</td>\n",
       "      <td>就是</td>\n",
       "    </tr>\n",
       "    <tr>\n",
       "      <th>1081</th>\n",
       "      <td>dtffoodkind</td>\n",
       "      <td>這是</td>\n",
       "    </tr>\n",
       "    <tr>\n",
       "      <th>1082</th>\n",
       "      <td>dtffoodkind</td>\n",
       "      <td>是給</td>\n",
       "    </tr>\n",
       "    <tr>\n",
       "      <th>1084</th>\n",
       "      <td>dtffoodkind</td>\n",
       "      <td>不是</td>\n",
       "    </tr>\n",
       "    <tr>\n",
       "      <th>1085</th>\n",
       "      <td>dtffoodkind</td>\n",
       "      <td>的</td>\n",
       "    </tr>\n",
       "    <tr>\n",
       "      <th>1086</th>\n",
       "      <td>dtffoodkind</td>\n",
       "      <td>算是</td>\n",
       "    </tr>\n",
       "    <tr>\n",
       "      <th>1087</th>\n",
       "      <td>dtffoodkind</td>\n",
       "      <td>只是</td>\n",
       "    </tr>\n",
       "    <tr>\n",
       "      <th>1088</th>\n",
       "      <td>dtffoodkind</td>\n",
       "      <td>是點</td>\n",
       "    </tr>\n",
       "    <tr>\n",
       "      <th>1089</th>\n",
       "      <td>dtffoodkind</td>\n",
       "      <td>是當</td>\n",
       "    </tr>\n",
       "    <tr>\n",
       "      <th>1090</th>\n",
       "      <td>dtffoodkind</td>\n",
       "      <td>還有</td>\n",
       "    </tr>\n",
       "    <tr>\n",
       "      <th>1092</th>\n",
       "      <td>dtffoodkind</td>\n",
       "      <td>沒有</td>\n",
       "    </tr>\n",
       "    <tr>\n",
       "      <th>1093</th>\n",
       "      <td>dtffoodkind</td>\n",
       "      <td>滿有</td>\n",
       "    </tr>\n",
       "    <tr>\n",
       "      <th>1095</th>\n",
       "      <td>dtffoodkind</td>\n",
       "      <td>只有</td>\n",
       "    </tr>\n",
       "    <tr>\n",
       "      <th>1096</th>\n",
       "      <td>dtffoodkind</td>\n",
       "      <td>沒</td>\n",
       "    </tr>\n",
       "    <tr>\n",
       "      <th>1097</th>\n",
       "      <td>dtffoodkind</td>\n",
       "      <td>超有</td>\n",
       "    </tr>\n",
       "    <tr>\n",
       "      <th>1098</th>\n",
       "      <td>dtffoodkind</td>\n",
       "      <td>沒什麼</td>\n",
       "    </tr>\n",
       "    <tr>\n",
       "      <th>1099</th>\n",
       "      <td>dtffoodkind</td>\n",
       "      <td>有用</td>\n",
       "    </tr>\n",
       "  </tbody>\n",
       "</table>\n",
       "<p>1064 rows × 2 columns</p>\n",
       "</div>"
      ],
      "text/plain": [
       "                NPOS VTERM\n",
       "0         ingredient     來\n",
       "1         ingredient     加\n",
       "2         ingredient     吃\n",
       "3         ingredient    含有\n",
       "4         ingredient     想\n",
       "5         ingredient     放\n",
       "6         ingredient     是\n",
       "7         ingredient     會\n",
       "8         ingredient     有\n",
       "9         ingredient    看起\n",
       "10        ingredient    知道\n",
       "11        ingredient     賣\n",
       "12    dtfxiaolongbao    介紹\n",
       "13    dtfxiaolongbao     來\n",
       "14    dtfxiaolongbao     加\n",
       "15    dtfxiaolongbao     吃\n",
       "16    dtfxiaolongbao     問\n",
       "17    dtfxiaolongbao     幫\n",
       "18    dtfxiaolongbao     想\n",
       "19    dtfxiaolongbao     是\n",
       "20    dtfxiaolongbao     會\n",
       "21    dtfxiaolongbao     有\n",
       "22    dtfxiaolongbao    起來\n",
       "23          dtfdrink     想\n",
       "24          dtfdrink     是\n",
       "25          dtfdrink    知道\n",
       "26          dtfdrink     喝\n",
       "27       dtffoodtype    列出\n",
       "28       dtffoodtype     吃\n",
       "29       dtffoodtype     幫\n",
       "...              ...   ...\n",
       "1067     dtffoodkind    剛吃\n",
       "1068     dtffoodkind     嚐\n",
       "1069     dtffoodkind     買\n",
       "1070     dtffoodkind    先幫\n",
       "1071     dtffoodkind    還幫\n",
       "1072     dtffoodkind    幫忙\n",
       "1073     dtffoodkind     替\n",
       "1074     dtffoodkind    地幫\n",
       "1075     dtffoodkind    會幫\n",
       "1076     dtffoodkind    先給\n",
       "1077     dtffoodkind    拿給\n",
       "1078     dtffoodkind    遞給\n",
       "1079     dtffoodkind    的給\n",
       "1080     dtffoodkind    就是\n",
       "1081     dtffoodkind    這是\n",
       "1082     dtffoodkind    是給\n",
       "1084     dtffoodkind    不是\n",
       "1085     dtffoodkind     的\n",
       "1086     dtffoodkind    算是\n",
       "1087     dtffoodkind    只是\n",
       "1088     dtffoodkind    是點\n",
       "1089     dtffoodkind    是當\n",
       "1090     dtffoodkind    還有\n",
       "1092     dtffoodkind    沒有\n",
       "1093     dtffoodkind    滿有\n",
       "1095     dtffoodkind    只有\n",
       "1096     dtffoodkind     沒\n",
       "1097     dtffoodkind    超有\n",
       "1098     dtffoodkind   沒什麼\n",
       "1099     dtffoodkind    有用\n",
       "\n",
       "[1064 rows x 2 columns]"
      ]
     },
     "execution_count": 53,
     "metadata": {},
     "output_type": "execute_result"
    }
   ],
   "source": [
    "NV_POS_PAIR_EXT"
   ]
  },
  {
   "cell_type": "code",
   "execution_count": null,
   "metadata": {
    "collapsed": true
   },
   "outputs": [],
   "source": []
  }
 ],
 "metadata": {
  "anaconda-cloud": {},
  "kernelspec": {
   "display_name": "Python [default]",
   "language": "python",
   "name": "python2"
  },
  "language_info": {
   "codemirror_mode": {
    "name": "ipython",
    "version": 2
   },
   "file_extension": ".py",
   "mimetype": "text/x-python",
   "name": "python",
   "nbconvert_exporter": "python",
   "pygments_lexer": "ipython2",
   "version": "2.7.12"
  }
 },
 "nbformat": 4,
 "nbformat_minor": 1
}
