{
 "cells": [
  {
   "cell_type": "code",
   "execution_count": 1,
   "metadata": {
    "collapsed": true
   },
   "outputs": [],
   "source": [
    "#encoding utf-8\n",
    "import numpy as np\n",
    "import pandas as pd\n",
    "import re\n",
    "import itertools\n",
    "from IPython.display import Image"
   ]
  },
  {
   "cell_type": "code",
   "execution_count": 2,
   "metadata": {
    "collapsed": false
   },
   "outputs": [
    {
     "name": "stdout",
     "output_type": "stream",
     "text": [
      "130\n"
     ]
    },
    {
     "data": {
      "text/html": [
       "<div>\n",
       "<table border=\"1\" class=\"dataframe\">\n",
       "  <thead>\n",
       "    <tr style=\"text-align: right;\">\n",
       "      <th></th>\n",
       "      <th>No.</th>\n",
       "      <th>utterances</th>\n",
       "      <th>intent</th>\n",
       "      <th>entity</th>\n",
       "      <th>nlp_class</th>\n",
       "      <th>nlp_name</th>\n",
       "      <th>term</th>\n",
       "      <th>pos</th>\n",
       "    </tr>\n",
       "  </thead>\n",
       "  <tbody>\n",
       "    <tr>\n",
       "      <th>0</th>\n",
       "      <td>1</td>\n",
       "      <td>請問洗手間在哪?</td>\n",
       "      <td>問門市</td>\n",
       "      <td>分店::內部資訊,洗手間;</td>\n",
       "      <td>NLP_Major_05</td>\n",
       "      <td>店內資訊</td>\n",
       "      <td>[請問, 洗手間, 在哪, ?]</td>\n",
       "      <td>[qhead, branchinnerinfob, where, x]</td>\n",
       "    </tr>\n",
       "    <tr>\n",
       "      <th>1</th>\n",
       "      <td>1</td>\n",
       "      <td>你們化妝室怎麼走?</td>\n",
       "      <td>問門市</td>\n",
       "      <td>分店::內部資訊,化妝室;</td>\n",
       "      <td>NLP_Major_05</td>\n",
       "      <td>店內資訊</td>\n",
       "      <td>[你們, 化妝室, 怎麼走, ?]</td>\n",
       "      <td>[nh, branchinnerinfob, where, x]</td>\n",
       "    </tr>\n",
       "    <tr>\n",
       "      <th>2</th>\n",
       "      <td>1</td>\n",
       "      <td>我想上廁所</td>\n",
       "      <td>問門市</td>\n",
       "      <td>分店::內部資訊,廁所;</td>\n",
       "      <td>NLP_Major_05</td>\n",
       "      <td>店內資訊</td>\n",
       "      <td>[我, 想, 上, 廁所]</td>\n",
       "      <td>[r, v, f, branchinnerinfob]</td>\n",
       "    </tr>\n",
       "    <tr>\n",
       "      <th>3</th>\n",
       "      <td>3</td>\n",
       "      <td>什麼時候不需要排隊?</td>\n",
       "      <td>問門市</td>\n",
       "      <td>分店::候位,排隊;</td>\n",
       "      <td>NLP_Major_05</td>\n",
       "      <td>店內資訊</td>\n",
       "      <td>[什麼時候, 不需要, 排隊, ?]</td>\n",
       "      <td>[when, ineg, branchinnerinfoa, x]</td>\n",
       "    </tr>\n",
       "    <tr>\n",
       "      <th>4</th>\n",
       "      <td>3</td>\n",
       "      <td>哪時候人最少</td>\n",
       "      <td>問門市</td>\n",
       "      <td>分店::候位,人最少;</td>\n",
       "      <td>NLP_Major_05</td>\n",
       "      <td>店內資訊</td>\n",
       "      <td>[哪時候, 人最少]</td>\n",
       "      <td>[when, branchinnerinfoa]</td>\n",
       "    </tr>\n",
       "  </tbody>\n",
       "</table>\n",
       "</div>"
      ],
      "text/plain": [
       "  No.  utterances intent         entity     nlp_class nlp_name  \\\n",
       "0   1    請問洗手間在哪?    問門市  分店::內部資訊,洗手間;  NLP_Major_05     店內資訊   \n",
       "1   1   你們化妝室怎麼走?    問門市  分店::內部資訊,化妝室;  NLP_Major_05     店內資訊   \n",
       "2   1       我想上廁所    問門市   分店::內部資訊,廁所;  NLP_Major_05     店內資訊   \n",
       "3   3  什麼時候不需要排隊?    問門市     分店::候位,排隊;  NLP_Major_05     店內資訊   \n",
       "4   3      哪時候人最少    問門市    分店::候位,人最少;  NLP_Major_05     店內資訊   \n",
       "\n",
       "                 term                                  pos  \n",
       "0    [請問, 洗手間, 在哪, ?]  [qhead, branchinnerinfob, where, x]  \n",
       "1   [你們, 化妝室, 怎麼走, ?]     [nh, branchinnerinfob, where, x]  \n",
       "2       [我, 想, 上, 廁所]          [r, v, f, branchinnerinfob]  \n",
       "3  [什麼時候, 不需要, 排隊, ?]    [when, ineg, branchinnerinfoa, x]  \n",
       "4          [哪時候, 人最少]             [when, branchinnerinfoa]  "
      ]
     },
     "execution_count": 2,
     "metadata": {},
     "output_type": "execute_result"
    }
   ],
   "source": [
    "DTFQA = pd.read_pickle('../01_Chat_Identfier/db/DTFQA_v03')\n",
    "print len(DTFQA)\n",
    "DTFQA.iloc[0:5,:]"
   ]
  },
  {
   "cell_type": "code",
   "execution_count": 3,
   "metadata": {
    "collapsed": false
   },
   "outputs": [
    {
     "name": "stdout",
     "output_type": "stream",
     "text": [
      "931\n"
     ]
    },
    {
     "data": {
      "text/html": [
       "<div>\n",
       "<table border=\"1\" class=\"dataframe\">\n",
       "  <thead>\n",
       "    <tr style=\"text-align: right;\">\n",
       "      <th></th>\n",
       "      <th>pos</th>\n",
       "      <th>term</th>\n",
       "    </tr>\n",
       "  </thead>\n",
       "  <tbody>\n",
       "    <tr>\n",
       "      <th>0</th>\n",
       "      <td>qhead</td>\n",
       "      <td>請問</td>\n",
       "    </tr>\n",
       "    <tr>\n",
       "      <th>1</th>\n",
       "      <td>branchinnerinfob</td>\n",
       "      <td>洗手間</td>\n",
       "    </tr>\n",
       "    <tr>\n",
       "      <th>2</th>\n",
       "      <td>where</td>\n",
       "      <td>在哪</td>\n",
       "    </tr>\n",
       "    <tr>\n",
       "      <th>3</th>\n",
       "      <td>x</td>\n",
       "      <td>?</td>\n",
       "    </tr>\n",
       "    <tr>\n",
       "      <th>4</th>\n",
       "      <td>nh</td>\n",
       "      <td>你們</td>\n",
       "    </tr>\n",
       "  </tbody>\n",
       "</table>\n",
       "</div>"
      ],
      "text/plain": [
       "                pos term\n",
       "0             qhead   請問\n",
       "1  branchinnerinfob  洗手間\n",
       "2             where   在哪\n",
       "3                 x    ?\n",
       "4                nh   你們"
      ]
     },
     "execution_count": 3,
     "metadata": {},
     "output_type": "execute_result"
    }
   ],
   "source": [
    "DTFQA_STATISTIC = pd.read_pickle('../01_Chat_Identfier/db/DTFQA_STATISTIC')\n",
    "print len(DTFQA_STATISTIC)\n",
    "DTFQA_STATISTIC.iloc[0:5,:]"
   ]
  },
  {
   "cell_type": "code",
   "execution_count": 4,
   "metadata": {
    "collapsed": false
   },
   "outputs": [
    {
     "name": "stdout",
     "output_type": "stream",
     "text": [
      "all kind of term == 256\n"
     ]
    }
   ],
   "source": [
    "#取得所有 term 的所有可能 (移除重複)\n",
    "POS_DETAIL = pd.DataFrame({'count' : DTFQA_STATISTIC.groupby( [ \"pos\", \"term\"] ).size()}).reset_index()\n",
    "POS_DETAIL.iloc[0:10,:]\n",
    "print 'all kind of term == ' + str(len(POS_DETAIL))"
   ]
  },
  {
   "cell_type": "code",
   "execution_count": 5,
   "metadata": {
    "collapsed": false
   },
   "outputs": [
    {
     "data": {
      "text/html": [
       "<div>\n",
       "<table border=\"1\" class=\"dataframe\">\n",
       "  <thead>\n",
       "    <tr style=\"text-align: right;\">\n",
       "      <th></th>\n",
       "      <th>pos</th>\n",
       "      <th>term</th>\n",
       "      <th>count</th>\n",
       "    </tr>\n",
       "  </thead>\n",
       "  <tbody>\n",
       "    <tr>\n",
       "      <th>0</th>\n",
       "      <td>a</td>\n",
       "      <td>一般</td>\n",
       "      <td>2</td>\n",
       "    </tr>\n",
       "    <tr>\n",
       "      <th>1</th>\n",
       "      <td>a</td>\n",
       "      <td>好</td>\n",
       "      <td>3</td>\n",
       "    </tr>\n",
       "    <tr>\n",
       "      <th>2</th>\n",
       "      <td>an</td>\n",
       "      <td>安全</td>\n",
       "      <td>2</td>\n",
       "    </tr>\n",
       "    <tr>\n",
       "      <th>3</th>\n",
       "      <td>branchinnerinfoa</td>\n",
       "      <td>人最少</td>\n",
       "      <td>1</td>\n",
       "    </tr>\n",
       "    <tr>\n",
       "      <th>4</th>\n",
       "      <td>branchinnerinfoa</td>\n",
       "      <td>候位</td>\n",
       "      <td>1</td>\n",
       "    </tr>\n",
       "    <tr>\n",
       "      <th>5</th>\n",
       "      <td>branchinnerinfoa</td>\n",
       "      <td>排隊</td>\n",
       "      <td>1</td>\n",
       "    </tr>\n",
       "    <tr>\n",
       "      <th>6</th>\n",
       "      <td>branchinnerinfob</td>\n",
       "      <td>化妝室</td>\n",
       "      <td>1</td>\n",
       "    </tr>\n",
       "    <tr>\n",
       "      <th>7</th>\n",
       "      <td>branchinnerinfob</td>\n",
       "      <td>廁所</td>\n",
       "      <td>1</td>\n",
       "    </tr>\n",
       "    <tr>\n",
       "      <th>8</th>\n",
       "      <td>branchinnerinfob</td>\n",
       "      <td>洗手間</td>\n",
       "      <td>1</td>\n",
       "    </tr>\n",
       "    <tr>\n",
       "      <th>9</th>\n",
       "      <td>c</td>\n",
       "      <td>以外</td>\n",
       "      <td>1</td>\n",
       "    </tr>\n",
       "  </tbody>\n",
       "</table>\n",
       "</div>"
      ],
      "text/plain": [
       "                pos term  count\n",
       "0                 a   一般      2\n",
       "1                 a    好      3\n",
       "2                an   安全      2\n",
       "3  branchinnerinfoa  人最少      1\n",
       "4  branchinnerinfoa   候位      1\n",
       "5  branchinnerinfoa   排隊      1\n",
       "6  branchinnerinfob  化妝室      1\n",
       "7  branchinnerinfob   廁所      1\n",
       "8  branchinnerinfob  洗手間      1\n",
       "9                 c   以外      1"
      ]
     },
     "execution_count": 5,
     "metadata": {},
     "output_type": "execute_result"
    }
   ],
   "source": [
    "POS_DETAIL.iloc[0:10,:]"
   ]
  },
  {
   "cell_type": "code",
   "execution_count": 6,
   "metadata": {
    "collapsed": false
   },
   "outputs": [],
   "source": [
    "def check_pos_pair_in_DTFQA(p1,p2):\n",
    "    ret = 'FALSE'\n",
    "    for idx in range(len(DTFQA)):\n",
    "        fork_sentence_term = list(np.array(DTFQA['term'][idx]))\n",
    "        fork_sentence_pos  = list(np.array(DTFQA['pos'][idx]))\n",
    "        #print repr(DTFQA['term'][idx]).decode('unicode-escape')\n",
    "        \n",
    "        if p1 in fork_sentence_pos:\n",
    "            p1_index = fork_sentence_pos.index(p1)\n",
    "            fork_sentence_pos.remove(p1)\n",
    "            del fork_sentence_term[p1_index]\n",
    "            \n",
    "            #print 'match pos'\n",
    "            #print repr(fork_sentence_pos).decode('unicode-escape')\n",
    "            #print repr(fork_sentence_term).decode('unicode-escape')\n",
    "        if p2 in fork_sentence_term:\n",
    "            fork_sentence_term.remove(p2)\n",
    "            #print 'match term'\n",
    "            #print repr(fork_sentence_term).decode('unicode-escape')\n",
    "        if len(DTFQA['term'][idx]) == len(fork_sentence_term) + 2:\n",
    "            print repr(DTFQA['term'][idx]).decode('unicode-escape')\n",
    "            #print 'orig_len = ' + str(len(DTFQA['term'][idx])) + ', after removement =' + str(len(fork_sentence_term))\n",
    "            return 'TRUE'\n",
    "    return ret      "
   ]
  },
  {
   "cell_type": "code",
   "execution_count": 9,
   "metadata": {
    "collapsed": false
   },
   "outputs": [
    {
     "name": "stdout",
     "output_type": "stream",
     "text": [
      "[u'鼎泰豐', u'的', u'泡菜', u'和', u'一般', u'市售', u'的', u'泡菜', u'口味', u'不同', u'，', u'請問', u'是', u'屬', u'於', u'何種', u'口味', u'?']\n",
      "TRUE\n"
     ]
    }
   ],
   "source": [
    "p1 = u'dtfappetizer'\n",
    "p2 = u'口味'\n",
    "ret = check_pos_pair_in_DTFQA(p1,p2)\n",
    "print ret"
   ]
  },
  {
   "cell_type": "code",
   "execution_count": 8,
   "metadata": {
    "collapsed": false
   },
   "outputs": [
    {
     "name": "stdout",
     "output_type": "stream",
     "text": [
      "62\n"
     ]
    },
    {
     "data": {
      "text/html": [
       "<div>\n",
       "<table border=\"1\" class=\"dataframe\">\n",
       "  <thead>\n",
       "    <tr style=\"text-align: right;\">\n",
       "      <th></th>\n",
       "      <th>pos</th>\n",
       "      <th>term</th>\n",
       "    </tr>\n",
       "  </thead>\n",
       "  <tbody>\n",
       "    <tr>\n",
       "      <th>3</th>\n",
       "      <td>branchinnerinfoa</td>\n",
       "      <td>人最少</td>\n",
       "    </tr>\n",
       "    <tr>\n",
       "      <th>4</th>\n",
       "      <td>branchinnerinfoa</td>\n",
       "      <td>候位</td>\n",
       "    </tr>\n",
       "    <tr>\n",
       "      <th>5</th>\n",
       "      <td>branchinnerinfoa</td>\n",
       "      <td>排隊</td>\n",
       "    </tr>\n",
       "    <tr>\n",
       "      <th>6</th>\n",
       "      <td>branchinnerinfob</td>\n",
       "      <td>化妝室</td>\n",
       "    </tr>\n",
       "    <tr>\n",
       "      <th>7</th>\n",
       "      <td>branchinnerinfob</td>\n",
       "      <td>廁所</td>\n",
       "    </tr>\n",
       "    <tr>\n",
       "      <th>8</th>\n",
       "      <td>branchinnerinfob</td>\n",
       "      <td>洗手間</td>\n",
       "    </tr>\n",
       "    <tr>\n",
       "      <th>44</th>\n",
       "      <td>dtfappetizer</td>\n",
       "      <td>泡菜</td>\n",
       "    </tr>\n",
       "    <tr>\n",
       "      <th>45</th>\n",
       "      <td>dtfbranch</td>\n",
       "      <td>信義店</td>\n",
       "    </tr>\n",
       "    <tr>\n",
       "      <th>46</th>\n",
       "      <td>dtfbranchkinda</td>\n",
       "      <td>其他店</td>\n",
       "    </tr>\n",
       "    <tr>\n",
       "      <th>47</th>\n",
       "      <td>dtfbranchkinda</td>\n",
       "      <td>台灣門市</td>\n",
       "    </tr>\n",
       "    <tr>\n",
       "      <th>48</th>\n",
       "      <td>dtfbranchkinda</td>\n",
       "      <td>國外的分店</td>\n",
       "    </tr>\n",
       "    <tr>\n",
       "      <th>49</th>\n",
       "      <td>dtfbranchkinda</td>\n",
       "      <td>國外門市</td>\n",
       "    </tr>\n",
       "    <tr>\n",
       "      <th>50</th>\n",
       "      <td>dtfbranchkinda</td>\n",
       "      <td>店內</td>\n",
       "    </tr>\n",
       "    <tr>\n",
       "      <th>51</th>\n",
       "      <td>dtfbranchkinda</td>\n",
       "      <td>海外分店</td>\n",
       "    </tr>\n",
       "    <tr>\n",
       "      <th>52</th>\n",
       "      <td>dtfbranchkindb</td>\n",
       "      <td>港式餐廳</td>\n",
       "    </tr>\n",
       "    <tr>\n",
       "      <th>53</th>\n",
       "      <td>dtfbranchkindb</td>\n",
       "      <td>港式點心</td>\n",
       "    </tr>\n",
       "    <tr>\n",
       "      <th>54</th>\n",
       "      <td>dtfbrand</td>\n",
       "      <td>鼎泰豐</td>\n",
       "    </tr>\n",
       "    <tr>\n",
       "      <th>55</th>\n",
       "      <td>dtfdrink</td>\n",
       "      <td>茶</td>\n",
       "    </tr>\n",
       "    <tr>\n",
       "      <th>56</th>\n",
       "      <td>dtfdrink</td>\n",
       "      <td>茶葉</td>\n",
       "    </tr>\n",
       "    <tr>\n",
       "      <th>57</th>\n",
       "      <td>dtffoodkind</td>\n",
       "      <td>台式</td>\n",
       "    </tr>\n",
       "    <tr>\n",
       "      <th>58</th>\n",
       "      <td>dtffoodkind</td>\n",
       "      <td>吃素</td>\n",
       "    </tr>\n",
       "    <tr>\n",
       "      <th>59</th>\n",
       "      <td>dtffoodkind</td>\n",
       "      <td>吃肉</td>\n",
       "    </tr>\n",
       "    <tr>\n",
       "      <th>60</th>\n",
       "      <td>dtffoodkind</td>\n",
       "      <td>素的</td>\n",
       "    </tr>\n",
       "    <tr>\n",
       "      <th>61</th>\n",
       "      <td>dtffoodkind</td>\n",
       "      <td>素食</td>\n",
       "    </tr>\n",
       "    <tr>\n",
       "      <th>62</th>\n",
       "      <td>dtffoodkind</td>\n",
       "      <td>韓式</td>\n",
       "    </tr>\n",
       "    <tr>\n",
       "      <th>63</th>\n",
       "      <td>dtffoodsaftya</td>\n",
       "      <td>檢驗報告</td>\n",
       "    </tr>\n",
       "    <tr>\n",
       "      <th>64</th>\n",
       "      <td>dtffoodsaftya</td>\n",
       "      <td>檢驗文件</td>\n",
       "    </tr>\n",
       "    <tr>\n",
       "      <th>65</th>\n",
       "      <td>dtffoodsaftya</td>\n",
       "      <td>檢驗證明文件</td>\n",
       "    </tr>\n",
       "    <tr>\n",
       "      <th>66</th>\n",
       "      <td>dtffoodsaftya</td>\n",
       "      <td>檢驗過</td>\n",
       "    </tr>\n",
       "    <tr>\n",
       "      <th>67</th>\n",
       "      <td>dtffoodsaftya</td>\n",
       "      <td>產地證明</td>\n",
       "    </tr>\n",
       "    <tr>\n",
       "      <th>68</th>\n",
       "      <td>dtffoodsaftya</td>\n",
       "      <td>證明</td>\n",
       "    </tr>\n",
       "    <tr>\n",
       "      <th>69</th>\n",
       "      <td>dtffoodsaftya</td>\n",
       "      <td>證明文件</td>\n",
       "    </tr>\n",
       "    <tr>\n",
       "      <th>70</th>\n",
       "      <td>dtffoodsaftya</td>\n",
       "      <td>送驗</td>\n",
       "    </tr>\n",
       "    <tr>\n",
       "      <th>71</th>\n",
       "      <td>dtffoodsaftya</td>\n",
       "      <td>驗過</td>\n",
       "    </tr>\n",
       "    <tr>\n",
       "      <th>72</th>\n",
       "      <td>dtffoodsaftyb</td>\n",
       "      <td>瘦肉精</td>\n",
       "    </tr>\n",
       "    <tr>\n",
       "      <th>73</th>\n",
       "      <td>dtffoodsaftyb</td>\n",
       "      <td>食安問題</td>\n",
       "    </tr>\n",
       "    <tr>\n",
       "      <th>74</th>\n",
       "      <td>dtffoodtype</td>\n",
       "      <td>蒸的</td>\n",
       "    </tr>\n",
       "    <tr>\n",
       "      <th>75</th>\n",
       "      <td>dtffoodtype</td>\n",
       "      <td>蒸籠類</td>\n",
       "    </tr>\n",
       "    <tr>\n",
       "      <th>76</th>\n",
       "      <td>dtfingredient</td>\n",
       "      <td>牛肉</td>\n",
       "    </tr>\n",
       "    <tr>\n",
       "      <th>77</th>\n",
       "      <td>dtfingredient</td>\n",
       "      <td>美國牛</td>\n",
       "    </tr>\n",
       "    <tr>\n",
       "      <th>78</th>\n",
       "      <td>dtfingredient</td>\n",
       "      <td>肉品</td>\n",
       "    </tr>\n",
       "    <tr>\n",
       "      <th>79</th>\n",
       "      <td>dtfingredient</td>\n",
       "      <td>肉類</td>\n",
       "    </tr>\n",
       "    <tr>\n",
       "      <th>80</th>\n",
       "      <td>dtfingredient</td>\n",
       "      <td>豬</td>\n",
       "    </tr>\n",
       "    <tr>\n",
       "      <th>81</th>\n",
       "      <td>dtfingredient</td>\n",
       "      <td>豬肉</td>\n",
       "    </tr>\n",
       "    <tr>\n",
       "      <th>82</th>\n",
       "      <td>dtfsoup</td>\n",
       "      <td>酸辣湯</td>\n",
       "    </tr>\n",
       "    <tr>\n",
       "      <th>83</th>\n",
       "      <td>dtfxiaolongbao</td>\n",
       "      <td>小籠包</td>\n",
       "    </tr>\n",
       "    <tr>\n",
       "      <th>84</th>\n",
       "      <td>dtfxiaolongbao</td>\n",
       "      <td>小籠湯包</td>\n",
       "    </tr>\n",
       "    <tr>\n",
       "      <th>113</th>\n",
       "      <td>ingredient</td>\n",
       "      <td>內容物</td>\n",
       "    </tr>\n",
       "    <tr>\n",
       "      <th>114</th>\n",
       "      <td>ingredient</td>\n",
       "      <td>有什麼</td>\n",
       "    </tr>\n",
       "    <tr>\n",
       "      <th>115</th>\n",
       "      <td>ingredient</td>\n",
       "      <td>材料</td>\n",
       "    </tr>\n",
       "    <tr>\n",
       "      <th>116</th>\n",
       "      <td>ingredient</td>\n",
       "      <td>東西</td>\n",
       "    </tr>\n",
       "    <tr>\n",
       "      <th>117</th>\n",
       "      <td>ingredient</td>\n",
       "      <td>食材</td>\n",
       "    </tr>\n",
       "    <tr>\n",
       "      <th>129</th>\n",
       "      <td>n</td>\n",
       "      <td>問題</td>\n",
       "    </tr>\n",
       "    <tr>\n",
       "      <th>130</th>\n",
       "      <td>n</td>\n",
       "      <td>因素</td>\n",
       "    </tr>\n",
       "    <tr>\n",
       "      <th>131</th>\n",
       "      <td>n</td>\n",
       "      <td>媽</td>\n",
       "    </tr>\n",
       "    <tr>\n",
       "      <th>132</th>\n",
       "      <td>n</td>\n",
       "      <td>宗教</td>\n",
       "    </tr>\n",
       "    <tr>\n",
       "      <th>133</th>\n",
       "      <td>n</td>\n",
       "      <td>市</td>\n",
       "    </tr>\n",
       "    <tr>\n",
       "      <th>134</th>\n",
       "      <td>n</td>\n",
       "      <td>牛</td>\n",
       "    </tr>\n",
       "    <tr>\n",
       "      <th>135</th>\n",
       "      <td>n</td>\n",
       "      <td>老實</td>\n",
       "    </tr>\n",
       "    <tr>\n",
       "      <th>136</th>\n",
       "      <td>n</td>\n",
       "      <td>茶</td>\n",
       "    </tr>\n",
       "    <tr>\n",
       "      <th>137</th>\n",
       "      <td>n</td>\n",
       "      <td>豬</td>\n",
       "    </tr>\n",
       "    <tr>\n",
       "      <th>138</th>\n",
       "      <td>n</td>\n",
       "      <td>面包</td>\n",
       "    </tr>\n",
       "  </tbody>\n",
       "</table>\n",
       "</div>"
      ],
      "text/plain": [
       "                  pos    term\n",
       "3    branchinnerinfoa     人最少\n",
       "4    branchinnerinfoa      候位\n",
       "5    branchinnerinfoa      排隊\n",
       "6    branchinnerinfob     化妝室\n",
       "7    branchinnerinfob      廁所\n",
       "8    branchinnerinfob     洗手間\n",
       "44       dtfappetizer      泡菜\n",
       "45          dtfbranch     信義店\n",
       "46     dtfbranchkinda     其他店\n",
       "47     dtfbranchkinda    台灣門市\n",
       "48     dtfbranchkinda   國外的分店\n",
       "49     dtfbranchkinda    國外門市\n",
       "50     dtfbranchkinda      店內\n",
       "51     dtfbranchkinda    海外分店\n",
       "52     dtfbranchkindb    港式餐廳\n",
       "53     dtfbranchkindb    港式點心\n",
       "54           dtfbrand     鼎泰豐\n",
       "55           dtfdrink       茶\n",
       "56           dtfdrink      茶葉\n",
       "57        dtffoodkind      台式\n",
       "58        dtffoodkind      吃素\n",
       "59        dtffoodkind      吃肉\n",
       "60        dtffoodkind      素的\n",
       "61        dtffoodkind      素食\n",
       "62        dtffoodkind      韓式\n",
       "63      dtffoodsaftya    檢驗報告\n",
       "64      dtffoodsaftya    檢驗文件\n",
       "65      dtffoodsaftya  檢驗證明文件\n",
       "66      dtffoodsaftya     檢驗過\n",
       "67      dtffoodsaftya    產地證明\n",
       "68      dtffoodsaftya      證明\n",
       "69      dtffoodsaftya    證明文件\n",
       "70      dtffoodsaftya      送驗\n",
       "71      dtffoodsaftya      驗過\n",
       "72      dtffoodsaftyb     瘦肉精\n",
       "73      dtffoodsaftyb    食安問題\n",
       "74        dtffoodtype      蒸的\n",
       "75        dtffoodtype     蒸籠類\n",
       "76      dtfingredient      牛肉\n",
       "77      dtfingredient     美國牛\n",
       "78      dtfingredient      肉品\n",
       "79      dtfingredient      肉類\n",
       "80      dtfingredient       豬\n",
       "81      dtfingredient      豬肉\n",
       "82            dtfsoup     酸辣湯\n",
       "83     dtfxiaolongbao     小籠包\n",
       "84     dtfxiaolongbao    小籠湯包\n",
       "113        ingredient     內容物\n",
       "114        ingredient     有什麼\n",
       "115        ingredient      材料\n",
       "116        ingredient      東西\n",
       "117        ingredient      食材\n",
       "129                 n      問題\n",
       "130                 n      因素\n",
       "131                 n       媽\n",
       "132                 n      宗教\n",
       "133                 n       市\n",
       "134                 n       牛\n",
       "135                 n      老實\n",
       "136                 n       茶\n",
       "137                 n       豬\n",
       "138                 n      面包"
      ]
     },
     "execution_count": 8,
     "metadata": {},
     "output_type": "execute_result"
    }
   ],
   "source": [
    "pd.set_option(\"display.max_rows\",100)\n",
    "# DTF要處理的 n 集合\n",
    "idx = np.array([bool(re.search(u'branch.*|^n$|dtf.*|ingredient', element)) for element in POS_DETAIL['pos']])\n",
    "#idx = np.array([bool(re.search(u'^n$', element)) for element in POS_DETAIL['pos']])\n",
    "print len(POS_DETAIL.iloc[idx,:])\n",
    "DTF_N_SET = POS_DETAIL.iloc[idx,0:2]\n",
    "DTF_N_SET"
   ]
  },
  {
   "cell_type": "code",
   "execution_count": 10,
   "metadata": {
    "collapsed": false
   },
   "outputs": [
    {
     "name": "stdout",
     "output_type": "stream",
     "text": [
      "1020\n",
      "[u'鼎泰豐', u'的', u'酸辣湯', u'加', u'了', u'哪些', u'東西']\n",
      "u'dtfsoup',u'鼎泰豐'\n",
      "[u'鼎泰豐', u'賣', u'的', u'是', u'港式點心', u'嗎', u'?']\n",
      "u'dtfbranchkindb',u'鼎泰豐'\n",
      "[u'請問', u'那些', u'東西', u'沒有', u'豬肉']\n",
      "u'ingredient',u'豬肉'\n",
      "[u'店內', u'有什麼', u'是', u'素食', u'的', u'食物', u'?']\n",
      "u'dtffoodkind',u'店內'\n",
      "[u'鼎泰豐', u'的', u'泡菜', u'和', u'一般', u'市售', u'的', u'泡菜', u'口味', u'不同', u'，', u'請問', u'是', u'屬', u'於', u'何種', u'口味', u'?']\n",
      "u'dtfbrand',u'泡菜'\n",
      "[u'你們', u'的', u'肉類', u'有', u'驗過', u'瘦肉精', u'嗎']\n",
      "u'dtffoodsaftya',u'瘦肉精'\n",
      "[u'我', u'今天', u'不想', u'吃肉', u'，', u'哪些', u'是', u'素的']\n",
      "u'dtffoodkind',u'素的'\n",
      "[u'鼎泰豐', u'的', u'泡菜', u'和', u'一般', u'市售', u'的', u'泡菜', u'口味', u'不同', u'，', u'請問', u'是', u'屬', u'於', u'何種', u'口味', u'?']\n",
      "u'dtfappetizer',u'鼎泰豐'\n",
      "[u'鼎泰豐', u'的', u'東西', u'有', u'瘦肉精', u'嗎', u'?']\n",
      "u'dtffoodsaftyb',u'東西'\n",
      "[u'因為', u'宗教', u'因素', u'不吃', u'豬肉', u'，', u'請問', u'蒸籠類', u'鹹', u'的', u'哪些', u'不含', u'豬肉', u'？']\n",
      "u'dtfingredient',u'宗教'\n",
      "[u'你們', u'的', u'東西', u'安全', u'嗎', u'?', u' ', u'有', u'驗過', u'嗎', u'?']\n",
      "u'ingredient',u'驗過'\n",
      "[u'鼎泰豐', u'的', u'食材', u'有', u'檢驗過', u'嗎', u'?']\n",
      "u'ingredient',u'檢驗過'\n",
      "[u'你們', u'的', u'泡菜', u'為什麼', u'跟', u'市', u'面上', u'的', u'味道', u'不太一樣']\n",
      "u'n',u'泡菜'\n",
      "[u'我', u'想', u'吃', u'蒸的', u'東西', u'，', u'但', u'我', u'不能', u'吃', u'豬']\n",
      "u'n',u'蒸的'\n",
      "[u'除了', u'信義店', u'外', u'，', u'還', u'有', u'其他店', u'不能', u'刷卡', u'嗎', u'?']\n",
      "u'dtfbranchkinda',u'信義店'\n",
      "[u'你們', u'的', u'食材', u'有', u'產地證明', u'嗎', u'?']\n",
      "u'ingredient',u'產地證明'\n",
      "[u'我', u'想', u'吃', u'蒸的', u'東西', u'，', u'但', u'我', u'不能', u'吃', u'豬']\n",
      "u'ingredient',u'豬'\n",
      "[u'你們', u'的', u'食材', u'裡', u'會', u'含有', u'瘦肉精', u'嗎', u'?']\n",
      "u'dtffoodsaftyb',u'食材'\n",
      "[u'我', u'想', u'吃', u'蒸的', u'東西', u'，', u'但', u'我', u'不能', u'吃', u'豬']\n",
      "u'ingredient',u'蒸的'\n",
      "[u'因為', u'宗教', u'因素', u'不吃', u'豬肉', u'，', u'請問', u'蒸籠類', u'鹹', u'的', u'哪些', u'不含', u'豬肉', u'？']\n",
      "u'dtffoodtype',u'宗教'\n",
      "[u'你們', u'的', u'牛肉', u'是', u'哪一國', u'的', u'牛', u'?']\n",
      "u'dtfingredient',u'牛'\n",
      "[u'鼎泰豐', u'有', u'素的', u'餐點', u'嗎']\n",
      "u'dtffoodkind',u'鼎泰豐'\n",
      "[u'因為', u'宗教', u'因素', u'不吃', u'豬肉', u'，', u'請問', u'蒸籠類', u'鹹', u'的', u'哪些', u'不含', u'豬肉', u'？']\n",
      "u'dtffoodtype',u'因素'\n",
      "[u'信義店', u'為何', u'沒有', u'提供', u'信用卡刷卡', u'服務', u'的', u'問題', u'?']\n",
      "u'dtfbranch',u'問題'\n",
      "[u'因為', u'宗教', u'因素', u'不吃', u'豬肉', u'，', u'請問', u'蒸籠類', u'鹹', u'的', u'哪些', u'不含', u'豬肉', u'？']\n",
      "u'dtffoodtype',u'豬肉'\n",
      "[u'你們', u'的', u'東西', u'安全', u'嗎', u'?', u' ', u'有', u'驗過', u'嗎', u'?']\n",
      "u'dtffoodsaftya',u'東西'\n",
      "[u'我', u'媽', u'吃素', u'，', u'有沒有', u'推薦', u'的', u'餐點']\n",
      "u'dtffoodkind',u'媽'\n",
      "[u'還是', u'問', u'一下', u'好', u'了', u'，', u'你們', u'的', u'肉類', u'有沒有', u'瘦肉精', u'阿', u'?']\n",
      "u'dtffoodsaftyb',u'肉類'\n",
      "[u'你們', u'的', u'牛肉', u'是', u'哪一國', u'的', u'牛', u'?']\n",
      "u'n',u'牛肉'\n",
      "[u'你們', u'的', u'肉類', u'有', u'驗過', u'瘦肉精', u'嗎']\n",
      "u'dtffoodsaftya',u'肉類'\n",
      "[u'國外門市', u'賣', u'的', u'東西', u'會', u'比較', u'多樣', u'嗎', u'?']\n",
      "u'dtfbranchkinda',u'東西'\n",
      "[u'小籠包', u'裡', u'面包', u'了', u'甚麼']\n",
      "u'n',u'小籠包'\n",
      "[u'鼎泰豐', u'的', u'食材', u'有', u'檢驗過', u'嗎', u'?']\n",
      "u'dtfbrand',u'檢驗過'\n",
      "[u'鼎泰豐', u'的', u'酸辣湯', u'加', u'了', u'哪些', u'東西']\n",
      "u'dtfbrand',u'酸辣湯'\n",
      "[u'鼎泰豐', u'是', u'港式餐廳', u'嗎', u'?']\n",
      "u'dtfbrand',u'港式餐廳'\n",
      "[u'你們', u'的', u'牛肉', u'有沒有', u'瘦肉精', u'?']\n",
      "u'dtfingredient',u'瘦肉精'\n",
      "[u'小籠包', u'裡', u'面包', u'了', u'甚麼']\n",
      "u'dtfxiaolongbao',u'面包'\n",
      "[u'最近', u'食安問題', u'很多', u'，', u'你們', u'怎麼', u'證明', u'自家', u'的', u'東西', u'是', u'安全', u'的', u'?']\n",
      "u'ingredient',u'證明'\n",
      "[u'鼎泰豐', u'的', u'東西', u'有', u'瘦肉精', u'嗎', u'?']\n",
      "u'ingredient',u'瘦肉精'\n",
      "[u'鼎泰豐', u'的', u'食材', u'有', u'檢驗過', u'嗎', u'?']\n",
      "u'dtffoodsaftya',u'食材'\n",
      "[u'信義店', u'為何', u'沒有', u'提供', u'信用卡刷卡', u'服務', u'的', u'問題', u'?']\n",
      "u'n',u'信義店'\n",
      "[u'最近', u'食安問題', u'很多', u'，', u'你們', u'怎麼', u'證明', u'自家', u'的', u'東西', u'是', u'安全', u'的', u'?']\n",
      "u'ingredient',u'食安問題'\n",
      "[u'你們', u'的', u'茶', u'是', u'什麼', u'茶', u'?']\n",
      "u'dtfdrink',u'茶'\n",
      "[u'店內', u'有什麼', u'是', u'素食', u'的', u'食物', u'?']\n",
      "u'dtfbranchkinda',u'有什麼'\n",
      "[u'我', u'媽', u'吃素', u'，', u'有沒有', u'推薦', u'的', u'餐點']\n",
      "u'n',u'吃素'\n",
      "[u'店內', u'的', u'酸辣湯', u'材料', u'有', u'哪些', u'?']\n",
      "u'dtfsoup',u'材料'\n",
      "[u'店內', u'客人', u'喝', u'的', u'是', u'甚麼', u'茶', u'?']\n",
      "u'dtfbranchkinda',u'茶'\n",
      "[u'店內', u'有什麼', u'是', u'素食', u'的', u'食物', u'?']\n",
      "u'dtffoodkind',u'有什麼'\n",
      "[u'請問', u'那些', u'東西', u'沒有', u'豬肉']\n",
      "u'dtfingredient',u'東西'\n",
      "[u'鼎泰豐', u'所', u'使用', u'的', u'牛肉', u'是', u'哪裡', u'的', u'產地', u'?']\n",
      "u'dtfbrand',u'牛肉'\n",
      "[u'你們', u'的', u'茶', u'是', u'哪種', u'茶葉', u'?']\n",
      "u'n',u'茶葉'\n",
      "[u'小籠湯包', u'與', u'小籠包', u'有什麼', u'不同', u'?']\n",
      "u'ingredient',u'小籠包'\n",
      "[u'你們', u'的', u'肉類', u'有', u'驗過', u'瘦肉精', u'嗎']\n",
      "u'dtffoodsaftyb',u'驗過'\n",
      "[u'鼎泰豐', u'的', u'食材', u'有', u'檢驗過', u'嗎', u'?']\n",
      "u'dtfbrand',u'食材'\n",
      "[u'國外門市', u'賣', u'的', u'東西', u'會', u'比較', u'多樣', u'嗎', u'?']\n",
      "u'ingredient',u'國外門市'\n",
      "[u'最近', u'食安問題', u'很多', u'，', u'你們', u'怎麼', u'證明', u'自家', u'的', u'東西', u'是', u'安全', u'的', u'?']\n",
      "u'dtffoodsaftya',u'食安問題'\n",
      "[u'老實', u'說', u'，', u'你們', u'的', u'餐點', u'有沒有', u'瘦肉精', u'?']\n",
      "u'dtffoodsaftyb',u'老實'\n",
      "[u'鼎泰豐', u'的', u'東西', u'有', u'瘦肉精', u'嗎', u'?']\n",
      "u'dtffoodsaftyb',u'鼎泰豐'\n",
      "[u'鼎泰豐', u'的', u'東西', u'有', u'瘦肉精', u'嗎', u'?']\n",
      "u'dtfbrand',u'瘦肉精'\n",
      "[u'海外分店', u'餐點', u'和', u'台灣門市', u'餐點', u'的', u'不同', u'?']\n",
      "u'dtfbranchkinda',u'台灣門市'\n",
      "[u'你們', u'的', u'茶', u'是', u'什麼', u'茶', u'?']\n",
      "u'n',u'茶'\n",
      "[u'店內', u'的', u'酸辣湯', u'材料', u'有', u'哪些', u'?']\n",
      "u'dtfbranchkinda',u'材料'\n",
      "[u'除了', u'信義店', u'外', u'，', u'還', u'有', u'其他店', u'不能', u'刷卡', u'嗎', u'?']\n",
      "u'dtfbranch',u'其他店'\n",
      "[u'店內', u'的', u'酸辣湯', u'材料', u'有', u'哪些', u'?']\n",
      "u'dtfsoup',u'店內'\n",
      "[u'你們', u'的', u'泡菜', u'為什麼', u'跟', u'市', u'面上', u'的', u'味道', u'不太一樣']\n",
      "u'dtfappetizer',u'市'\n",
      "[u'我', u'想', u'吃', u'蒸的', u'東西', u'，', u'但', u'我', u'不能', u'吃', u'豬']\n",
      "u'dtffoodtype',u'東西'\n",
      "[u'你們', u'的', u'泡菜', u'是', u'韓式', u'還是', u'台式', u'泡菜', u'阿', u'?']\n",
      "u'dtffoodkind',u'台式'\n",
      "[u'鼎泰豐', u'的', u'泡菜', u'和', u'一般', u'市售', u'的', u'泡菜', u'口味', u'不同', u'，', u'請問', u'是', u'屬', u'於', u'何種', u'口味', u'?']\n",
      "u'dtfappetizer',u'泡菜'\n",
      "[u'老實', u'說', u'，', u'你們', u'的', u'餐點', u'有沒有', u'瘦肉精', u'?']\n",
      "u'n',u'瘦肉精'\n",
      "[u'最近', u'食安問題', u'很多', u'，', u'你們', u'怎麼', u'證明', u'自家', u'的', u'東西', u'是', u'安全', u'的', u'?']\n",
      "u'dtffoodsaftyb',u'證明'\n",
      "[u'小籠湯包', u'與', u'小籠包', u'有什麼', u'不同', u'?']\n",
      "u'dtfxiaolongbao',u'小籠包'\n",
      "[u'你們', u'的', u'牛肉', u'有沒有', u'瘦肉精', u'?']\n",
      "u'dtffoodsaftyb',u'牛肉'\n",
      "[u'鼎泰豐', u'的', u'供應商', u'有', u'提供', u'證明文件', u'嗎', u'?']\n",
      "u'dtfbrand',u'證明文件'\n",
      "[u'店內', u'的', u'酸辣湯', u'材料', u'有', u'哪些', u'?']\n",
      "u'dtfbranchkinda',u'酸辣湯'\n",
      "[u'我', u'想', u'吃', u'蒸的', u'東西', u'，', u'但', u'我', u'不能', u'吃', u'豬']\n",
      "u'n',u'東西'\n",
      "[u'鼎泰豐', u'賣', u'的', u'是', u'港式點心', u'嗎', u'?']\n",
      "u'dtfbrand',u'港式點心'\n",
      "[u'是否', u'有', u'廠商', u'產地證明', u'或', u'檢驗證明文件', u'?']\n",
      "u'dtffoodsaftya',u'檢驗證明文件'\n",
      "[u'我', u'想', u'吃', u'蒸的', u'東西', u'，', u'但', u'我', u'不能', u'吃', u'豬']\n",
      "u'dtffoodtype',u'豬'\n",
      "[u'因為', u'宗教', u'因素', u'不吃', u'豬肉', u'，', u'請問', u'蒸籠類', u'鹹', u'的', u'哪些', u'不含', u'豬肉', u'？']\n",
      "u'dtfingredient',u'蒸籠類'\n",
      "[u'酸辣湯', u'有', u'哪些', u'食材']\n",
      "u'dtfsoup',u'食材'\n",
      "[u'鼎泰豐', u'的', u'酸辣湯', u'加', u'了', u'哪些', u'東西']\n",
      "u'dtfsoup',u'東西'\n",
      "[u'鼎泰豐', u'有', u'素的', u'餐點', u'嗎']\n",
      "u'dtfbrand',u'素的'\n",
      "[u'鼎泰豐', u'的', u'肉品', u'有沒有', u'瘦肉精', u'阿', u'?']\n",
      "u'dtfbrand',u'肉品'\n",
      "[u'鼎泰豐', u' ', u'素食']\n",
      "u'dtfbrand',u'素食'\n",
      "[u'鼎泰豐', u'所', u'使用', u'的', u'牛肉', u'是', u'哪裡', u'的', u'產地', u'?']\n",
      "u'dtfingredient',u'鼎泰豐'\n",
      "[u'我', u'想', u'知道', u'酸辣湯', u'裡面', u'有什麼', u'食材']\n",
      "u'ingredient',u'食材'\n",
      "[u'店內', u'的', u'酸辣湯', u'材料', u'有', u'哪些', u'?']\n",
      "u'ingredient',u'店內'\n",
      "[u'店內', u'有什麼', u'是', u'素食', u'的', u'食物', u'?']\n",
      "u'ingredient',u'素食'\n",
      "[u'因為', u'宗教', u'因素', u'不吃', u'豬肉', u'，', u'請問', u'蒸籠類', u'鹹', u'的', u'哪些', u'不含', u'豬肉', u'？']\n",
      "u'dtfingredient',u'因素'\n",
      "[u'你們', u'的', u'泡菜', u'是', u'台式', u'口味', u'嗎', u'?']\n",
      "u'dtffoodkind',u'泡菜'\n",
      "[u'你們', u'的', u'泡菜', u'是', u'台式', u'口味', u'嗎', u'?']\n",
      "u'dtfappetizer',u'台式'\n",
      "[u'因為', u'宗教', u'因素', u'不吃', u'豬肉', u'，', u'請問', u'蒸籠類', u'鹹', u'的', u'哪些', u'不含', u'豬肉', u'？']\n",
      "u'dtfingredient',u'豬肉'\n",
      "[u'鼎泰豐', u'的', u'酸辣湯', u'加', u'了', u'哪些', u'東西']\n",
      "u'ingredient',u'鼎泰豐'\n",
      "[u'因為', u'宗教', u'因素', u'不吃', u'豬肉', u'，', u'請問', u'蒸籠類', u'鹹', u'的', u'哪些', u'不含', u'豬肉', u'？']\n",
      "u'n',u'蒸籠類'\n",
      "[u'因為', u'宗教', u'因素', u'不吃', u'豬肉', u'，', u'請問', u'蒸籠類', u'鹹', u'的', u'哪些', u'不含', u'豬肉', u'？']\n",
      "u'n',u'因素'\n",
      "[u'鼎泰豐', u'的', u'肉品', u'有沒有', u'瘦肉精', u'阿', u'?']\n",
      "u'dtffoodsaftyb',u'肉品'\n",
      "[u'小籠湯包', u'與', u'小籠包', u'有什麼', u'不同', u'?']\n",
      "u'ingredient',u'小籠湯包'\n",
      "[u'鼎泰豐', u'的', u'食材', u'有', u'檢驗過', u'嗎', u'?']\n",
      "u'dtffoodsaftya',u'鼎泰豐'\n",
      "[u'店內', u'的', u'酸辣湯', u'材料', u'有', u'哪些', u'?']\n",
      "u'ingredient',u'酸辣湯'\n",
      "[u'店內', u'客人', u'喝', u'的', u'是', u'甚麼', u'茶', u'?']\n",
      "u'dtfdrink',u'店內'\n",
      "[u'鼎泰豐', u'的', u'酸辣湯', u'加', u'了', u'哪些', u'東西']\n",
      "u'dtfbrand',u'東西'\n",
      "[u'小籠湯包', u'與', u'小籠包', u'有什麼', u'不同', u'?']\n",
      "u'dtfxiaolongbao',u'有什麼'\n",
      "[u'你們', u'的', u'泡菜', u'是', u'韓式', u'還是', u'台式', u'泡菜', u'阿', u'?']\n",
      "u'dtfappetizer',u'韓式'\n",
      "[u'你們', u'有', u'哪些', u'證明', u'或', u'檢驗文件', u'呢', u'?']\n",
      "u'dtffoodsaftya',u'檢驗文件'\n",
      "[u'店內', u'有什麼', u'是', u'素食', u'的', u'食物', u'?']\n",
      "u'dtfbranchkinda',u'素食'\n",
      "[u'酸辣湯', u'的', u'內容物', u'有', u'哪些']\n",
      "u'dtfsoup',u'內容物'\n",
      "[u'你們', u'的', u'肉類', u'有', u'驗過', u'瘦肉精', u'嗎']\n",
      "u'dtfingredient',u'驗過'\n",
      "[u'因為', u'宗教', u'因素', u'不吃', u'豬肉', u'，', u'請問', u'蒸籠類', u'鹹', u'的', u'哪些', u'不含', u'豬肉', u'？']\n",
      "u'n',u'豬肉'\n",
      "[u'酸辣湯', u'裡面', u'有什麼']\n",
      "u'dtfsoup',u'有什麼'\n",
      "109\n"
     ]
    }
   ],
   "source": [
    "# all kind of (N,N) pair, 不只是同一句有出現\n",
    "# 62*62 = 3844 --> 1020\n",
    "ALL_NN_PAIR = list(set(list(itertools.product(DTF_N_SET['pos'], DTF_N_SET['term']))))\n",
    "DTF_NN_PAIR = []\n",
    "print len(ALL_NN_PAIR)\n",
    "for (p1, p2) in ALL_NN_PAIR: \n",
    "    #print repr(p1).decode('unicode-escape') + ',' + repr(p2).decode('unicode-escape')\n",
    "    ret = check_pos_pair_in_DTFQA(p1,p2)\n",
    "    if ret == 'TRUE':\n",
    "        print repr(p1).decode('unicode-escape') + ',' + repr(p2).decode('unicode-escape')\n",
    "        DTF_NN_PAIR.append([p1,p2])\n",
    "print len(DTF_NN_PAIR)\n"
   ]
  },
  {
   "cell_type": "code",
   "execution_count": null,
   "metadata": {
    "collapsed": false
   },
   "outputs": [],
   "source": [
    "# SAVE TO dataframe\n",
    "NN_NUMPY=np.array(DTF_NN_PAIR)\n",
    "NN_POS_PAIR = pd.DataFrame(NN_NUMPY)\n",
    "NN_POS_PAIR.columns = ['NPOS','NTERM']\n",
    "NN_POS_PAIR.to_pickle('./NN_POS_PAIR')"
   ]
  },
  {
   "cell_type": "code",
   "execution_count": null,
   "metadata": {
    "collapsed": true
   },
   "outputs": [],
   "source": [
    "# DTF要處理的 v 集合\n",
    "idx = np.array([bool(re.search(u'^v$|^vg$', element)) for element in POS_DETAIL['pos']])\n",
    "print len(POS_DETAIL.iloc[idx,:])\n",
    "DTF_V_SET = POS_DETAIL.iloc[idx,:]\n",
    "DTF_V_SET\n"
   ]
  },
  {
   "cell_type": "code",
   "execution_count": null,
   "metadata": {
    "collapsed": true
   },
   "outputs": [],
   "source": [
    "# all kind of (V,N) pair, 不只是同一句有出現\n",
    "# 62 * 34 = 2108 -> 578\n",
    "#ALL_NV_PAIR = list(set(list(itertools.product(DTF_N_SET['pos'], DTF_V_SET['term']))))\n",
    "# 17 * 34 = 2108 -> 578\n",
    "ALL_NV_PAIR = list(itertools.product(set(DTF_N_SET['pos']), DTF_V_SET['term']))\n",
    "DTF_NV_PAIR = []\n",
    "print len(list(ALL_NV_PAIR))\n",
    "for (p1, p2) in ALL_NV_PAIR: \n",
    "    #print repr(p1).decode('unicode-escape') + ',' + repr(p2).decode('unicode-escape')\n",
    "    ret = check_pos_pair_in_DTFQA(p1,p2)\n",
    "    if ret == 'TRUE':\n",
    "        print repr(p1).decode('unicode-escape') + ',' + repr(p2).decode('unicode-escape')\n",
    "        DTF_NV_PAIR.append([p1,p2])\n",
    "#print repr(DTF_NV_PAIR).decode('unicode-escape')"
   ]
  },
  {
   "cell_type": "code",
   "execution_count": null,
   "metadata": {
    "collapsed": true
   },
   "outputs": [],
   "source": [
    "# SAVE TO dataframe\n",
    "NV_NUMPY=np.array(DTF_NV_PAIR)\n",
    "NV_POS_PAIR = pd.DataFrame(NV_NUMPY)\n",
    "NV_POS_PAIR.columns = ['NPOS','VTERM']\n",
    "NV_POS_PAIR.to_pickle('./NV_POS_PAIR')"
   ]
  },
  {
   "cell_type": "code",
   "execution_count": null,
   "metadata": {
    "collapsed": true
   },
   "outputs": [],
   "source": [
    "#all kind of (A,N) pair"
   ]
  },
  {
   "cell_type": "code",
   "execution_count": null,
   "metadata": {
    "collapsed": true
   },
   "outputs": [],
   "source": [
    "#==================================================================================================\n",
    "# 單獨測試 pos pair\n",
    "#=================================================================================================="
   ]
  },
  {
   "cell_type": "code",
   "execution_count": null,
   "metadata": {
    "collapsed": false
   },
   "outputs": [],
   "source": [
    "len(set(DTF_N_SET['pos']))"
   ]
  },
  {
   "cell_type": "code",
   "execution_count": null,
   "metadata": {
    "collapsed": false
   },
   "outputs": [],
   "source": [
    "# Query for specific none on DTF_NV_PAIR\n",
    "# 取德特定組合內容, 下面的例子是找 dtfsoup 相關所有的 v 的組合\n",
    "# 也可以翻譯成: 如果出現了 dtfsoup 這個名詞, 整句話可以出現的動詞只能是下面的幾個case\n",
    "# 當然還要考慮 w2v 的 v, 但不是在這個時候加入\n",
    "NV_NUMPY=np.array(DTF_NV_PAIR)\n",
    "idx = np.where(NV_NUMPY[:,0] == u'dtfbranch')\n",
    "print repr(NV_NUMPY[idx,:]).decode('unicode-escape')\n",
    "NV_POS_PAIR = pd.DataFrame(NV_NUMPY)\n",
    "NV_POS_PAIR.columns = ['NPOS','VTERM']\n"
   ]
  },
  {
   "cell_type": "code",
   "execution_count": 11,
   "metadata": {
    "collapsed": false
   },
   "outputs": [
    {
     "name": "stdout",
     "output_type": "stream",
     "text": [
      "array([[[u'dtfxiaolongbao', u'面包'],\n",
      "        [u'dtfxiaolongbao', u'小籠包'],\n",
      "        [u'dtfxiaolongbao', u'有什麼']]], \n",
      "      dtype='<U14')\n"
     ]
    }
   ],
   "source": [
    "# Query for specific none on DTF_NN_PAIR\n",
    "# 取德特定組合內容, 下面的例子是找 dtfsoup 相關所有的 v 的組合\n",
    "# 也可以翻譯成: 如果出現了 dtfsoup 這個名詞, 整句話可以出現的動詞只能是下面的幾個case\n",
    "# 當然還要考慮 w2v 的 v, 但不是在這個時候加入\n",
    "NN_NUMPY=np.array(DTF_NN_PAIR)\n",
    "idx = np.where(NN_NUMPY[:,0] == u'dtfxiaolongbao')\n",
    "print repr(NN_NUMPY[idx,:]).decode('unicode-escape')\n",
    "NN_POS_PAIR = pd.DataFrame(NN_NUMPY)\n",
    "NN_POS_PAIR.columns = ['NPOS','NTERM']"
   ]
  },
  {
   "cell_type": "code",
   "execution_count": null,
   "metadata": {
    "collapsed": false
   },
   "outputs": [],
   "source": [
    "NN_POS_PAIR"
   ]
  },
  {
   "cell_type": "code",
   "execution_count": null,
   "metadata": {
    "collapsed": false
   },
   "outputs": [],
   "source": [
    "ALL_VN_PAIR = itertools.product(DTF_V_SET['term'], DTF_N_SET['term'])\n",
    "list(ALL_VN_PAIR)"
   ]
  },
  {
   "cell_type": "code",
   "execution_count": null,
   "metadata": {
    "collapsed": false
   },
   "outputs": [],
   "source": [
    "#print repr(DTF_VN_PAIR[10]).decode('unicode-escape')\n",
    "print 'length DTV_V_SET   = ' + str(len(DTF_V_SET))\n",
    "print 'length ALL_VN_PAIR = ' + str(len(ALL_VN_PAIR))\n",
    "print 'length DTF_VN_PAIR = ' + str(len(DTF_VN_PAIR))"
   ]
  },
  {
   "cell_type": "code",
   "execution_count": null,
   "metadata": {
    "collapsed": false
   },
   "outputs": [],
   "source": [
    "DTF_N_PAIR[0]\n",
    "if [u'泡菜',u'泡菜'] in DTF_N_PAIR:\n",
    "    print 'yes'\n",
    "else:\n",
    "    print 'no'"
   ]
  },
  {
   "cell_type": "code",
   "execution_count": null,
   "metadata": {
    "collapsed": true
   },
   "outputs": [],
   "source": [
    "#==================================================================================================\n",
    "# 以下為測試code\n",
    "#=================================================================================================="
   ]
  },
  {
   "cell_type": "code",
   "execution_count": null,
   "metadata": {
    "collapsed": true
   },
   "outputs": [],
   "source": [
    "def check_pos_pair_in_DTFQA(p1,p2):\n",
    "    ret = 'FALSE'\n",
    "    for sentence in DTFQA['term']:\n",
    "        fork_sentence = list(np.array(sentence))\n",
    "        if p1 in fork_sentence:\n",
    "            fork_sentence.remove(p1)\n",
    "        if p2 in fork_sentence_term:\n",
    "            fork_sentence.remove(p2)  \n",
    "        if len(sentence) == len(fork_sentence) + 2:\n",
    "            print repr(sentence).decode('unicode-escape')\n",
    "            print 'orig_len = ' + str(len(sentence)) + ', after removement =' + str(len(sentence))\n",
    "            return 'TRUE'\n",
    "    return ret      \n"
   ]
  },
  {
   "cell_type": "code",
   "execution_count": null,
   "metadata": {
    "collapsed": false
   },
   "outputs": [],
   "source": [
    "sentence = list(np.array(DTFQA['term'][4]))\n",
    "#print repr(sentence).decode('unicode-escape')\n",
    "sentence.append(u'哪時候')\n",
    "print repr(sentence).decode('unicode-escape')\n"
   ]
  },
  {
   "cell_type": "code",
   "execution_count": null,
   "metadata": {
    "collapsed": false
   },
   "outputs": [],
   "source": [
    "p1 = u'哪時候'\n",
    "p2 = u'人'\n",
    "if p1 in sentence:\n",
    "    sentence.remove(p1)\n",
    "if p2 in sentence:\n",
    "    sentence.remove(p2)\n",
    "print repr(sentence).decode('unicode-escape')"
   ]
  },
  {
   "cell_type": "code",
   "execution_count": null,
   "metadata": {
    "collapsed": false
   },
   "outputs": [],
   "source": [
    "print repr(DTFQA['term'][4]).decode('unicode-escape')"
   ]
  },
  {
   "cell_type": "code",
   "execution_count": null,
   "metadata": {
    "collapsed": false
   },
   "outputs": [],
   "source": [
    "target_idx = np.where(POS_DETAIL['pos'] == 'n')\n",
    "POS_DETAIL.iloc[target_idx[0],:]\n",
    "print len(POS_DETAIL.iloc[target_idx[0],:])"
   ]
  },
  {
   "cell_type": "code",
   "execution_count": null,
   "metadata": {
    "collapsed": false
   },
   "outputs": [],
   "source": [
    "#np.any([p1*3],DTFTERM0)\n",
    "print (np.array(DTFTERM4) == p1)"
   ]
  },
  {
   "cell_type": "code",
   "execution_count": null,
   "metadata": {
    "collapsed": false
   },
   "outputs": [],
   "source": [
    "#print repr(DTFTERM\n",
    "#print repr(DTFQA['term'][4]).decode('unicode-escape')\n",
    "DTFTERM0 = DTFQA['term'][0]\n",
    "DTFTERM4 = DTFQA['term'][4]\n",
    "print repr(DTFTERM0).decode('unicode-escape')\n",
    "print repr(DTFTERM4).decode('unicode-escape')"
   ]
  },
  {
   "cell_type": "code",
   "execution_count": null,
   "metadata": {
    "collapsed": true
   },
   "outputs": [],
   "source": [
    "#print np.array(list(map(lambda v: re.sub(r'dtf','^n$', v) ,POS_DETAIL['pos'])))\n",
    "#type(POS_DETAIL['pos'])\n",
    "idx = np.where((POS_DETAIL['pos'] == u'branchinnerinfoa') | (POS_DETAIL['pos'] == 'n'))\n",
    "POS_DETAIL.iloc[idx[0],:]"
   ]
  },
  {
   "cell_type": "code",
   "execution_count": null,
   "metadata": {
    "collapsed": false
   },
   "outputs": [],
   "source": [
    "idx = np.array([bool(re.search(u'food', element)) for element in POS_DETAIL['pos']])\n",
    "print len(POS_DETAIL.iloc[idx,:])\n",
    "POS_DETAIL.iloc[idx,:]"
   ]
  },
  {
   "cell_type": "code",
   "execution_count": null,
   "metadata": {
    "collapsed": true
   },
   "outputs": [],
   "source": [
    "pd.set_option(\"display.max_rows\",100)\n",
    "target_idx = np.where(POS_DETAIL['pos'] == 'n')\n",
    "POS_DETAIL.iloc[target_idx[0],:]\n",
    "N_LIST = POS_DETAIL.iloc[target_idx[0],:]\n",
    "N_LIST"
   ]
  },
  {
   "cell_type": "code",
   "execution_count": null,
   "metadata": {
    "collapsed": true
   },
   "outputs": [],
   "source": [
    "#all kind of (N,N) pair\n",
    "\n",
    "pos_list  = []\n",
    "term_list = []\n",
    "for idx in range(len(DTFQA['pos'])):\n",
    "    pos_list  += DTFQA['pos'][idx]\n",
    "    term_list += DTFQA['term'][idx]"
   ]
  },
  {
   "cell_type": "code",
   "execution_count": null,
   "metadata": {
    "collapsed": false
   },
   "outputs": [],
   "source": [
    "# 數字有用,文字不行\n",
    "# create all pair combination in DTFQA.[pos]\n",
    "# http://stackoverflow.com/questions/1208118/using-numpy-to-build-an-array-of-all-combinations-of-two-arrays\n",
    "# cartesian\n",
    "np.array(np.meshgrid([1, 2, 3],[1, 2, 3])).T.reshape(-1,2)\n",
    "np.array(np.meshgrid([1, 2, 3], [4, 5], [6, 7])).T.reshape(-1,3)\n"
   ]
  },
  {
   "cell_type": "code",
   "execution_count": null,
   "metadata": {
    "collapsed": true
   },
   "outputs": [],
   "source": [
    "# cartesian 這個方法不知道怎麼 run\n",
    "def cartesian2(arrays):\n",
    "    arrays = [np.asarray(a) for a in arrays]\n",
    "    shape = (len(x) for x in arrays)\n",
    "\n",
    "    ix = np.indices(shape, dtype=int)\n",
    "    ix = ix.reshape(len(arrays), -1).T\n",
    "\n",
    "    for n, arr in enumerate(arrays):\n",
    "        ix[:, n] = arrays[n][ix[:, n]]\n",
    "\n",
    "    return ix"
   ]
  },
  {
   "cell_type": "code",
   "execution_count": null,
   "metadata": {
    "collapsed": false
   },
   "outputs": [],
   "source": [
    "# cartesian 這個方法數字有用,文字不行\n",
    "def cartesian_coord(*arrays):\n",
    "    grid = np.meshgrid(*arrays)        \n",
    "    coord_list = [entry.ravel() for entry in grid]\n",
    "    points = np.vstack(coord_list).T\n",
    "    return points\n",
    "\n",
    "a = np.array([1,2])\n",
    "print(cartesian_coord(*2*[a]))"
   ]
  },
  {
   "cell_type": "code",
   "execution_count": null,
   "metadata": {
    "collapsed": false
   },
   "outputs": [],
   "source": [
    "# cartesian 這個方法文字數字都可以\n",
    "import itertools\n",
    "#a_p1 = np.arange(0, 4, 1)\n",
    "#a_p2 = np.arange(20, 25, 1)\n",
    "a_p1 = np.array(['a','b'])\n",
    "a_p2 = np.array(['c','d'])\n",
    "params = itertools.product(a_p1, a_p2)\n",
    "for (p1, p2) in params:\n",
    "    print(p1, p2)"
   ]
  },
  {
   "cell_type": "code",
   "execution_count": null,
   "metadata": {
    "collapsed": false
   },
   "outputs": [],
   "source": [
    "DTFQA['term']"
   ]
  },
  {
   "cell_type": "code",
   "execution_count": null,
   "metadata": {
    "collapsed": false
   },
   "outputs": [],
   "source": [
    "params = itertools.product(DTF_N_SET['term'], DTF_N_SET['term'])\n",
    "for (p1, p2) in params:\n",
    "    print repr(p1).decode('unicode-escape') + ',' + repr(p2).decode('unicode-escape')"
   ]
  },
  {
   "cell_type": "code",
   "execution_count": null,
   "metadata": {
    "collapsed": false
   },
   "outputs": [],
   "source": [
    "aList = [123, 'xyz', 'zara', 'abc', 'xyz'];\n",
    "\n",
    "aList.remove('xyz');\n",
    "print \"List : \", aList\n",
    "aList.remove('abc');\n",
    "print \"List : \", aList"
   ]
  },
  {
   "cell_type": "code",
   "execution_count": null,
   "metadata": {
    "collapsed": false
   },
   "outputs": [],
   "source": [
    "for idx in range(len(DTFQA)):\n",
    "    sentence_term = DTFQA['term'][idx]\n",
    "    print sentence_term                 \n",
    "                  \n",
    "    #print sentence_pos"
   ]
  },
  {
   "cell_type": "code",
   "execution_count": null,
   "metadata": {
    "collapsed": false
   },
   "outputs": [],
   "source": [
    "DTFQA['term'][0]"
   ]
  },
  {
   "cell_type": "code",
   "execution_count": null,
   "metadata": {
    "collapsed": true
   },
   "outputs": [],
   "source": []
  }
 ],
 "metadata": {
  "anaconda-cloud": {},
  "kernelspec": {
   "display_name": "Python [default]",
   "language": "python",
   "name": "python2"
  },
  "language_info": {
   "codemirror_mode": {
    "name": "ipython",
    "version": 2
   },
   "file_extension": ".py",
   "mimetype": "text/x-python",
   "name": "python",
   "nbconvert_exporter": "python",
   "pygments_lexer": "ipython2",
   "version": "2.7.12"
  }
 },
 "nbformat": 4,
 "nbformat_minor": 1
}
