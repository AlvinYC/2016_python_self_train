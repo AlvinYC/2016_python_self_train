{
 "cells": [
  {
   "cell_type": "code",
   "execution_count": 1,
   "metadata": {
    "collapsed": true
   },
   "outputs": [],
   "source": [
    "#http://old.sebug.net/paper/books/scipydoc/numpy_intro.html\n",
    "import numpy as np"
   ]
  },
  {
   "cell_type": "code",
   "execution_count": 2,
   "metadata": {
    "collapsed": true
   },
   "outputs": [],
   "source": [
    "persontype = np.dtype({\n",
    "                        'names':  ['name', 'age', 'weight'],\n",
    "                        'formats':['S32' , 'i'  , 'f']\n",
    "                      })"
   ]
  },
  {
   "cell_type": "code",
   "execution_count": 3,
   "metadata": {
    "collapsed": true
   },
   "outputs": [],
   "source": [
    "'''\n",
    "S32 : 32个字节的字符串类型，由于结构中的每个元素的大小必须固定，因此需要指定字符串的长度\n",
    "i   : 32bit的整数类型，相当于np.int32\n",
    "f   : 32bit的单精度浮点数类型，相当于np.float32\n",
    "'''\n",
    "a = np.array([(\"Zhang\",32,75.5),(\"Wang\",24,65.2)], dtype=persontype)"
   ]
  },
  {
   "cell_type": "code",
   "execution_count": 4,
   "metadata": {
    "collapsed": false
   },
   "outputs": [
    {
     "name": "stdout",
     "output_type": "stream",
     "text": [
      "('Wang', 24, 65.19999694824219)\n",
      "name =   Wang\n",
      "age  =   24\n",
      "weight = 65.2\n"
     ]
    }
   ],
   "source": [
    "idx = 1\n",
    "print a[idx]\n",
    "print 'name =   ' + a[idx][0]\n",
    "print 'age  =   ' + str(a[idx][1])\n",
    "print 'weight = ' + str(a[idx][2])"
   ]
  },
  {
   "cell_type": "code",
   "execution_count": 5,
   "metadata": {
    "collapsed": false
   },
   "outputs": [
    {
     "data": {
      "text/plain": [
       "dtype([('name', 'S32'), ('age', '<i4'), ('weight', '<f4')])"
      ]
     },
     "execution_count": 5,
     "metadata": {},
     "output_type": "execute_result"
    }
   ],
   "source": [
    "a.dtype"
   ]
  },
  {
   "cell_type": "code",
   "execution_count": 6,
   "metadata": {
    "collapsed": false
   },
   "outputs": [
    {
     "name": "stdout",
     "output_type": "stream",
     "text": [
      "('Zhang', 32, 75.5)\n",
      "('Li', 24, 65.19999694824219)\n"
     ]
    }
   ],
   "source": [
    "#跟前面一樣,\n",
    "#如果不是用 np 去接, 那就是 call by address --> 改變值後原本的陣列內容會跟着改變\n",
    "#如果是用  np  去接, 那就是 call by value   --> 不會跟着改變\n",
    "c = a[1]\n",
    "c[\"name\"] = \"Li\"\n",
    "print a[0]\n",
    "print a[1]"
   ]
  },
  {
   "cell_type": "code",
   "execution_count": 7,
   "metadata": {
    "collapsed": false
   },
   "outputs": [
    {
     "name": "stdout",
     "output_type": "stream",
     "text": [
      "['Zhang' 'Li']\n",
      "[32 24]\n"
     ]
    }
   ],
   "source": [
    "b1=a[:]['name'] \n",
    "b2=a[:]['age'] \n",
    "print b1\n",
    "print b2"
   ]
  },
  {
   "cell_type": "code",
   "execution_count": null,
   "metadata": {
    "collapsed": false
   },
   "outputs": [],
   "source": [
    "#測試 call by address\n",
    "b2[1] = 66\n",
    "print a[0]\n",
    "print a[1]"
   ]
  },
  {
   "cell_type": "code",
   "execution_count": null,
   "metadata": {
    "collapsed": true
   },
   "outputs": [],
   "source": [
    "#將資料結構儲存成檔案\n",
    "a.tofile(\"test.bin\")"
   ]
  },
  {
   "cell_type": "code",
   "execution_count": 23,
   "metadata": {
    "collapsed": false
   },
   "outputs": [
    {
     "name": "stdout",
     "output_type": "stream",
     "text": [
      "('Zhang', 32, 75.5)\n",
      "('Li', 66, 65.19999694824219)\n"
     ]
    }
   ],
   "source": [
    "aplus = np.fromfile('test.bin',dtype=persontype)\n",
    "print aplus[0]\n",
    "print aplus[1]"
   ]
  },
  {
   "cell_type": "code",
   "execution_count": null,
   "metadata": {
    "collapsed": true
   },
   "outputs": [],
   "source": []
  }
 ],
 "metadata": {
  "anaconda-cloud": {},
  "kernelspec": {
   "display_name": "Python [default]",
   "language": "python",
   "name": "python2"
  },
  "language_info": {
   "codemirror_mode": {
    "name": "ipython",
    "version": 2
   },
   "file_extension": ".py",
   "mimetype": "text/x-python",
   "name": "python",
   "nbconvert_exporter": "python",
   "pygments_lexer": "ipython2",
   "version": "2.7.12"
  }
 },
 "nbformat": 4,
 "nbformat_minor": 1
}
