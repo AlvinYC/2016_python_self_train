{
 "cells": [
  {
   "cell_type": "code",
   "execution_count": 1,
   "metadata": {
    "collapsed": true
   },
   "outputs": [],
   "source": [
    "#########################################################################################\n",
    "# np.fromstring \n",
    "# http://old.sebug.net/paper/books/scipydoc/numpy_intro.html\n",
    "########################################################################################\n",
    "\n",
    "import numpy as np\n",
    "s = \"abcdefgh\""
   ]
  },
  {
   "cell_type": "code",
   "execution_count": 2,
   "metadata": {
    "collapsed": false
   },
   "outputs": [
    {
     "data": {
      "text/plain": [
       "array([ 97,  98,  99, 100, 101, 102, 103, 104], dtype=int8)"
      ]
     },
     "execution_count": 2,
     "metadata": {},
     "output_type": "execute_result"
    }
   ],
   "source": [
    "# fromstring 意思就是對字串的每個字元做 型態轉型\n",
    "\n",
    "#numpy.fromstring(string, dtype=float, count=-1, sep='')\n",
    "#https://docs.scipy.org/doc/numpy/reference/generated/numpy.fromstring.html\n",
    "\n",
    "np.fromstring(s,dtype=np.int8)\n",
    "#np.fromstring(s,dtype=np.int16)"
   ]
  },
  {
   "cell_type": "code",
   "execution_count": 9,
   "metadata": {
    "collapsed": false
   },
   "outputs": [
    {
     "data": {
      "text/plain": [
       "'\\nData type\\tDescription\\nbool_\\t\\tBoolean (True or False) stored as a byte\\nint_\\t\\tDefault integer type (same as C long; normally either int64 or int32)\\nintc\\t\\tIdentical to C int (normally int32 or int64)\\nintp\\t\\tInteger used for indexing (same as C ssize_t; normally either int32 or int64)\\nint8\\t\\tByte (-128 to 127)\\nint16\\t\\tInteger (-32768 to 32767)\\nint32\\t\\tInteger (-2147483648 to 2147483647)\\nint64\\t\\tInteger (-9223372036854775808 to 9223372036854775807)\\nuint8\\t\\tUnsigned integer (0 to 255)\\nuint16\\t\\tUnsigned integer (0 to 65535)\\nuint32\\t\\tUnsigned integer (0 to 4294967295)\\nuint64\\t\\tUnsigned integer (0 to 18446744073709551615)\\nfloat_\\t\\tShorthand for float64.\\nfloat16\\t\\tHalf precision float: sign bit, 5 bits exponent, 10 bits mantissa\\nfloat32\\t\\tSingle precision float: sign bit, 8 bits exponent, 23 bits mantissa\\nfloat64\\t\\tDouble precision float: sign bit, 11 bits exponent, 52 bits mantissa\\ncomplex_\\tShorthand for complex128.\\ncomplex64\\tComplex number, represented by two 32-bit floats (real and imaginary components)\\ncomplex128\\tComplex number, represented by two 64-bit floats (real and imaginary components)\\n'"
      ]
     },
     "execution_count": 9,
     "metadata": {},
     "output_type": "execute_result"
    }
   ],
   "source": [
    "# data tape\n",
    "# https://docs.scipy.org/doc/numpy/user/basics.types.html\n",
    "'''\n",
    "Data type\tDescription\n",
    "bool_\t\tBoolean (True or False) stored as a byte\n",
    "int_\t\tDefault integer type (same as C long; normally either int64 or int32)\n",
    "intc\t\tIdentical to C int (normally int32 or int64)\n",
    "intp\t\tInteger used for indexing (same as C ssize_t; normally either int32 or int64)\n",
    "int8\t\tByte (-128 to 127)\n",
    "int16\t\tInteger (-32768 to 32767)\n",
    "int32\t\tInteger (-2147483648 to 2147483647)\n",
    "int64\t\tInteger (-9223372036854775808 to 9223372036854775807)\n",
    "uint8\t\tUnsigned integer (0 to 255)\n",
    "uint16\t\tUnsigned integer (0 to 65535)\n",
    "uint32\t\tUnsigned integer (0 to 4294967295)\n",
    "uint64\t\tUnsigned integer (0 to 18446744073709551615)\n",
    "float_\t\tShorthand for float64.\n",
    "float16\t\tHalf precision float: sign bit, 5 bits exponent, 10 bits mantissa\n",
    "float32\t\tSingle precision float: sign bit, 8 bits exponent, 23 bits mantissa\n",
    "float64\t\tDouble precision float: sign bit, 11 bits exponent, 52 bits mantissa\n",
    "complex_\tShorthand for complex128.\n",
    "complex64\tComplex number, represented by two 32-bit floats (real and imaginary components)\n",
    "complex128\tComplex number, represented by two 64-bit floats (real and imaginary components)\n",
    "'''"
   ]
  },
  {
   "cell_type": "code",
   "execution_count": 7,
   "metadata": {
    "collapsed": false
   },
   "outputs": [
    {
     "ename": "AttributeError",
     "evalue": "'str' object has no attribute 'dtype'",
     "output_type": "error",
     "traceback": [
      "\u001b[0;31m\u001b[0m",
      "\u001b[0;31mAttributeError\u001b[0mTraceback (most recent call last)",
      "\u001b[0;32m<ipython-input-7-c645f6a4fde9>\u001b[0m in \u001b[0;36m<module>\u001b[0;34m()\u001b[0m\n\u001b[1;32m      1\u001b[0m \u001b[0;31m#判斷 datatype\u001b[0m\u001b[0;34m\u001b[0m\u001b[0;34m\u001b[0m\u001b[0m\n\u001b[1;32m      2\u001b[0m \u001b[0;31m#np.dtype(s.dtype)\u001b[0m\u001b[0;34m\u001b[0m\u001b[0;34m\u001b[0m\u001b[0m\n\u001b[0;32m----> 3\u001b[0;31m \u001b[0ms\u001b[0m\u001b[0;34m.\u001b[0m\u001b[0mdtype\u001b[0m\u001b[0;34m(\u001b[0m\u001b[0;34m)\u001b[0m\u001b[0;34m\u001b[0m\u001b[0m\n\u001b[0m",
      "\u001b[0;31mAttributeError\u001b[0m: 'str' object has no attribute 'dtype'"
     ]
    }
   ],
   "source": [
    "#判斷 datatype\n",
    "#np.dtype(s.dtype)\n",
    "s.dtype() \n",
    "# fail 因爲 s 不是 np"
   ]
  },
  {
   "cell_type": "code",
   "execution_count": 16,
   "metadata": {
    "collapsed": false
   },
   "outputs": [
    {
     "name": "stdout",
     "output_type": "stream",
     "text": [
      "anp = ['abcdefg']\n",
      "bnp = [2 5 8]\n"
     ]
    }
   ],
   "source": [
    "anp = np.array(['abcdefg'])\n",
    "bnp = np.array([2,5,8])\n",
    "print 'anp = ' + str(anp) + '\\n' + 'bnp = ' + str(bnp)"
   ]
  },
  {
   "cell_type": "code",
   "execution_count": 17,
   "metadata": {
    "collapsed": false
   },
   "outputs": [
    {
     "data": {
      "text/plain": [
       "dtype('S7')"
      ]
     },
     "execution_count": 17,
     "metadata": {},
     "output_type": "execute_result"
    }
   ],
   "source": [
    "anp.dtype"
   ]
  },
  {
   "cell_type": "code",
   "execution_count": 18,
   "metadata": {
    "collapsed": false
   },
   "outputs": [
    {
     "data": {
      "text/plain": [
       "array(['abcdefg'], \n",
       "      dtype='|S7')"
      ]
     },
     "execution_count": 18,
     "metadata": {},
     "output_type": "execute_result"
    }
   ],
   "source": [
    "anp"
   ]
  },
  {
   "cell_type": "code",
   "execution_count": 15,
   "metadata": {
    "collapsed": false
   },
   "outputs": [
    {
     "data": {
      "text/plain": [
       "dtype('int64')"
      ]
     },
     "execution_count": 15,
     "metadata": {},
     "output_type": "execute_result"
    }
   ],
   "source": [
    "bnp.dtype"
   ]
  },
  {
   "cell_type": "code",
   "execution_count": 31,
   "metadata": {
    "collapsed": false
   },
   "outputs": [
    {
     "data": {
      "text/plain": [
       "array([[ 1.,  1.,  1.,  1.],\n",
       "       [ 2.,  2.,  2.,  2.],\n",
       "       [ 3.,  3.,  3.,  3.]])"
      ]
     },
     "execution_count": 31,
     "metadata": {},
     "output_type": "execute_result"
    }
   ],
   "source": [
    "#########################################################################################\n",
    "# np.fromfunction \n",
    "# numpy.fromfunction(function, shape, **kwargs\n",
    "# 造出一個array, 而且這個arry的內容是根據 function組成,所以只有專心寫好造function的函數就好\n",
    "#########################################################################################\n",
    "\n",
    "def func(i,j):\n",
    "    return i%4+1\n",
    "    # 0,0 = 1,0\n",
    "    # 0,1 = 2,0\n",
    "    # 0,2 = 3,0\n",
    "    # 0,3 = 4,0\n",
    "\n",
    "#這裏表示我要造一個3x4的array,array的內容是根據 func而定\n",
    "np.fromfunction(func, (3,4))\n"
   ]
  }
 ],
 "metadata": {
  "anaconda-cloud": {},
  "kernelspec": {
   "display_name": "Python [default]",
   "language": "python",
   "name": "python2"
  },
  "language_info": {
   "codemirror_mode": {
    "name": "ipython",
    "version": 2
   },
   "file_extension": ".py",
   "mimetype": "text/x-python",
   "name": "python",
   "nbconvert_exporter": "python",
   "pygments_lexer": "ipython2",
   "version": "2.7.12"
  }
 },
 "nbformat": 4,
 "nbformat_minor": 1
}
