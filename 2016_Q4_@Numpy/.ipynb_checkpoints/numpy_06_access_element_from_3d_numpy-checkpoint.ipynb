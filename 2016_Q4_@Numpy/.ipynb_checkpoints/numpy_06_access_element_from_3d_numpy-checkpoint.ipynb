{
 "cells": [
  {
   "cell_type": "code",
   "execution_count": 2,
   "metadata": {
    "collapsed": true
   },
   "outputs": [],
   "source": [
    "import numpy as np\n",
    "from IPython.display import Image"
   ]
  },
  {
   "cell_type": "code",
   "execution_count": 3,
   "metadata": {
    "collapsed": false
   },
   "outputs": [
    {
     "data": {
      "text/html": [
       "<img src=\"http://old.sebug.net/paper/books/scipydoc/_images/numpy_intro_02.png\"/>"
      ],
      "text/plain": [
       "<IPython.core.display.Image object>"
      ]
     },
     "execution_count": 3,
     "metadata": {},
     "output_type": "execute_result"
    }
   ],
   "source": [
    "Image(url='http://old.sebug.net/paper/books/scipydoc/_images/numpy_intro_02.png') "
   ]
  },
  {
   "cell_type": "code",
   "execution_count": 6,
   "metadata": {
    "collapsed": false
   },
   "outputs": [
    {
     "name": "stdout",
     "output_type": "stream",
     "text": [
      "[[  0.   1.   2.   3.   4.   5.]\n",
      " [ 10.  11.  12.  13.  14.  15.]\n",
      " [ 20.  21.  22.  23.  24.  25.]\n",
      " [ 30.  31.  32.  33.  34.  35.]\n",
      " [ 40.  41.  42.  43.  44.  45.]\n",
      " [ 50.  51.  52.  53.  54.  55.]]\n"
     ]
    }
   ],
   "source": [
    "def create_array(i,j):\n",
    " return i*10+j\n",
    "\n",
    "ori_arr = np.fromfunction(create_array,(6,6))\n",
    "print ori_arr\n"
   ]
  },
  {
   "cell_type": "code",
   "execution_count": 9,
   "metadata": {
    "collapsed": false
   },
   "outputs": [
    {
     "data": {
      "text/plain": [
       "array([ 3.,  4.])"
      ]
     },
     "execution_count": 9,
     "metadata": {},
     "output_type": "execute_result"
    }
   ],
   "source": [
    "#橘色\n",
    "ori_arr[0,3:5]"
   ]
  },
  {
   "cell_type": "code",
   "execution_count": 12,
   "metadata": {
    "collapsed": false
   },
   "outputs": [
    {
     "data": {
      "text/plain": [
       "array([  2.,  12.,  22.,  32.,  42.,  52.])"
      ]
     },
     "execution_count": 12,
     "metadata": {},
     "output_type": "execute_result"
    }
   ],
   "source": [
    "#紅色\n",
    "ori_arr[:,2]"
   ]
  },
  {
   "cell_type": "code",
   "execution_count": 18,
   "metadata": {
    "collapsed": false
   },
   "outputs": [
    {
     "data": {
      "text/plain": [
       "array([[ 20.,  22.,  24.],\n",
       "       [ 40.,  42.,  44.]])"
      ]
     },
     "execution_count": 18,
     "metadata": {},
     "output_type": "execute_result"
    }
   ],
   "source": [
    "#綠色\n",
    "ori_arr[(2,4),0::2]"
   ]
  },
  {
   "cell_type": "code",
   "execution_count": 19,
   "metadata": {
    "collapsed": false
   },
   "outputs": [
    {
     "data": {
      "text/plain": [
       "array([[ 44.,  45.],\n",
       "       [ 54.,  55.]])"
      ]
     },
     "execution_count": 19,
     "metadata": {},
     "output_type": "execute_result"
    }
   ],
   "source": [
    "#藍色\n",
    "ori_arr[4:,4:]"
   ]
  },
  {
   "cell_type": "code",
   "execution_count": 20,
   "metadata": {
    "collapsed": false
   },
   "outputs": [
    {
     "data": {
      "text/html": [
       "<img src=\"http://old.sebug.net/paper/books/scipydoc/_images/numpy_intro_03.png\"/>"
      ],
      "text/plain": [
       "<IPython.core.display.Image object>"
      ]
     },
     "execution_count": 20,
     "metadata": {},
     "output_type": "execute_result"
    }
   ],
   "source": [
    "#################################################################################\n",
    "# 用 bitmask 方式來取得 2d-array element\n",
    "#################################################################################\n",
    "Image(url='http://old.sebug.net/paper/books/scipydoc/_images/numpy_intro_03.png')"
   ]
  },
  {
   "cell_type": "code",
   "execution_count": 21,
   "metadata": {
    "collapsed": false
   },
   "outputs": [
    {
     "name": "stdout",
     "output_type": "stream",
     "text": [
      "[[  0.   1.   2.   3.   4.   5.]\n",
      " [ 10.  11.  12.  13.  14.  15.]\n",
      " [ 20.  21.  22.  23.  24.  25.]\n",
      " [ 30.  31.  32.  33.  34.  35.]\n",
      " [ 40.  41.  42.  43.  44.  45.]\n",
      " [ 50.  51.  52.  53.  54.  55.]]\n"
     ]
    }
   ],
   "source": [
    "ori_arrx = np.fromfunction(create_array,(6,6))\n",
    "print ori_arrx\n"
   ]
  },
  {
   "cell_type": "code",
   "execution_count": 28,
   "metadata": {
    "collapsed": false
   },
   "outputs": [
    {
     "name": "stdout",
     "output_type": "stream",
     "text": [
      "[  1.  12.  23.  34.  45.]\n",
      "(0,1)= 1.0\n",
      "(1,2)= 12.0\n",
      "(2,3)= 23.0\n",
      "(3,4)= 34.0\n",
      "(4,5)= 45.0\n"
     ]
    }
   ],
   "source": [
    "#橘色\n",
    "print ori_arrx[(0,1,2,3,4),(1,2,3,4,5)]\n",
    "print '(0,1)= ' + str(ori_arrx[0,1])\n",
    "print '(1,2)= ' + str(ori_arrx[1,2])\n",
    "print '(2,3)= ' + str(ori_arrx[2,3])\n",
    "print '(3,4)= ' + str(ori_arrx[3,4])\n",
    "print '(4,5)= ' + str(ori_arrx[4,5])"
   ]
  },
  {
   "cell_type": "code",
   "execution_count": 29,
   "metadata": {
    "collapsed": false
   },
   "outputs": [
    {
     "data": {
      "text/plain": [
       "array([[ 30.,  32.,  35.],\n",
       "       [ 40.,  42.,  45.],\n",
       "       [ 50.,  52.,  55.]])"
      ]
     },
     "execution_count": 29,
     "metadata": {},
     "output_type": "execute_result"
    }
   ],
   "source": [
    "#藍色\n",
    "ori_arrx[3:,[0,2,5]]"
   ]
  },
  {
   "cell_type": "code",
   "execution_count": 33,
   "metadata": {
    "collapsed": false
   },
   "outputs": [
    {
     "name": "stdout",
     "output_type": "stream",
     "text": [
      "[ True False  True False False  True]\n",
      "[  2.  22.  52.]\n"
     ]
    }
   ],
   "source": [
    "#用 bitmask 方式存取\n",
    "#紅色\n",
    "bitmask = np.array([1,0,1,0,0,1],dtype=np.bool)\n",
    "print bitmask\n",
    "print ori_arrx[bitmask,2]"
   ]
  },
  {
   "cell_type": "code",
   "execution_count": 35,
   "metadata": {
    "collapsed": false
   },
   "outputs": [
    {
     "name": "stdout",
     "output_type": "stream",
     "text": [
      "[False  True False  True False  True]\n",
      "[ 11.  13.  15.]\n"
     ]
    }
   ],
   "source": [
    "#自己測試, row2 奇數\n",
    "oddmask = np.array([0,1,0,1,0,1],dtype=np.bool)\n",
    "print oddmask\n",
    "print ori_arrx[1,oddmask]"
   ]
  },
  {
   "cell_type": "code",
   "execution_count": null,
   "metadata": {
    "collapsed": true
   },
   "outputs": [],
   "source": []
  }
 ],
 "metadata": {
  "anaconda-cloud": {},
  "kernelspec": {
   "display_name": "Python [default]",
   "language": "python",
   "name": "python2"
  },
  "language_info": {
   "codemirror_mode": {
    "name": "ipython",
    "version": 2
   },
   "file_extension": ".py",
   "mimetype": "text/x-python",
   "name": "python",
   "nbconvert_exporter": "python",
   "pygments_lexer": "ipython2",
   "version": "2.7.12"
  }
 },
 "nbformat": 4,
 "nbformat_minor": 1
}
