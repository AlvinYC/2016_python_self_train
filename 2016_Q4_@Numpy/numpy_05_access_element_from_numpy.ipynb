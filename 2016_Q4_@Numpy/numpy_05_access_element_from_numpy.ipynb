{
 "cells": [
  {
   "cell_type": "code",
   "execution_count": 1,
   "metadata": {
    "collapsed": true
   },
   "outputs": [],
   "source": [
    "import numpy as np"
   ]
  },
  {
   "cell_type": "code",
   "execution_count": 2,
   "metadata": {
    "collapsed": false
   },
   "outputs": [
    {
     "data": {
      "text/plain": [
       "array([0, 1, 2, 3, 4, 5, 6, 7, 8, 9])"
      ]
     },
     "execution_count": 2,
     "metadata": {},
     "output_type": "execute_result"
    }
   ],
   "source": [
    "a = np.arange(10)\n",
    "a"
   ]
  },
  {
   "cell_type": "code",
   "execution_count": 3,
   "metadata": {
    "collapsed": false
   },
   "outputs": [
    {
     "name": "stdout",
     "output_type": "stream",
     "text": [
      "[3 4]\n"
     ]
    }
   ],
   "source": [
    "# a[x1:x2] 取指定陣列範圍, 從index x1開始 , x2-1 結束\n",
    "print a[3:5]"
   ]
  },
  {
   "cell_type": "code",
   "execution_count": 4,
   "metadata": {
    "collapsed": false
   },
   "outputs": [
    {
     "name": "stdout",
     "output_type": "stream",
     "text": [
      "[0 1 2 3 4 5 6 7 8 9]\n",
      "[  0   1   2 101 102   5   6   7   8   9]\n"
     ]
    }
   ],
   "source": [
    "# a[x1:x2] = y1,y2 除了指定陣列範圍, 可以 assign 這個範圍內的內容\n",
    "print a\n",
    "a[3:5] = 101,102\n",
    "print a"
   ]
  },
  {
   "cell_type": "code",
   "execution_count": 6,
   "metadata": {
    "collapsed": false
   },
   "outputs": [
    {
     "name": "stdout",
     "output_type": "stream",
     "text": [
      "[  0   1   2 101 102]\n",
      "[  0   1   2 101 102   5]\n"
     ]
    }
   ],
   "source": [
    "# a[:n] 從頭開始直到 index n-1\n",
    "print a[:5]\n",
    "print a[:6]"
   ]
  },
  {
   "cell_type": "code",
   "execution_count": 7,
   "metadata": {
    "collapsed": false
   },
   "outputs": [
    {
     "name": "stdout",
     "output_type": "stream",
     "text": [
      "[  0   1   2 101 102   5   6   7   8   9]\n",
      "[  1 101   5   7]\n",
      "[  2 102   6   8]\n",
      "[  1 102   7]\n"
     ]
    }
   ],
   "source": [
    "print a\n",
    "print a[1:-1:2] #從 index 1 開始道最後, 每 2 個element取一個值\n",
    "print a[2:-1:2] #從 index 2 開始道最後, 每 2 個element取一個值\n",
    "print a[1:-1:3] #從 index 1 開始道最後, 每 3 個element取一個值"
   ]
  },
  {
   "cell_type": "code",
   "execution_count": null,
   "metadata": {
    "collapsed": false
   },
   "outputs": [],
   "source": [
    "print a[::-1]   #對陣列做 reverse,每次間隔兩 0個 元素\n",
    "print a[::-2]   #對陣列做 reverse,每次間隔兩 1個 元素\n",
    "print a[-1::-2] #對陣列做 reverse,每次間隔兩 1個 元素\n",
    "print a[-2::-2] #對陣列做 reverse,每次間隔兩 1個 元素\n",
    "print a[9:0:-1]"
   ]
  },
  {
   "cell_type": "code",
   "execution_count": 8,
   "metadata": {
    "collapsed": false
   },
   "outputs": [
    {
     "name": "stdout",
     "output_type": "stream",
     "text": [
      "[0 1 2 3 4 5 6 7 8 9]\n",
      "[3 4 5 6]\n",
      "[  3   4 -10   6]\n",
      "[  0   1   2   3   4 -10   6   7   8   9]\n"
     ]
    }
   ],
   "source": [
    "# call by adress\n",
    "# a 取出的部分數值b b改變後,a陣列數值也會跟着改變\n",
    "a = np.arange(10)\n",
    "print a\n",
    "b = a[3:7]\n",
    "print b\n",
    "b[2] = -10\n",
    "print b\n",
    "print a"
   ]
  },
  {
   "cell_type": "code",
   "execution_count": 9,
   "metadata": {
    "collapsed": false
   },
   "outputs": [
    {
     "name": "stdout",
     "output_type": "stream",
     "text": [
      "[0 1 2 3 4 5 6 7 8 9]\n",
      "[3 4 5 6]\n",
      "[  3   4 -10   6]\n",
      "[0 1 2 3 4 5 6 7 8 9]\n"
     ]
    }
   ],
   "source": [
    "# call by value\n",
    "# a 取出的部分數值b b改變後,a陣列數值也不會跟着改變\n",
    "# 唯一的差異就是 b 當取取出來後是用 numpy 還是 python array\n",
    "# 如果是python array, 就是 call by address\n",
    "# 如果是numpy  array, 就是 call by value\n",
    "\n",
    "a = np.arange(10)\n",
    "print a\n",
    "b = np.array(a[3:7]) # \n",
    "print b\n",
    "b[2] = -10\n",
    "print b\n",
    "print a"
   ]
  },
  {
   "cell_type": "code",
   "execution_count": 17,
   "metadata": {
    "collapsed": false
   },
   "outputs": [
    {
     "name": "stdout",
     "output_type": "stream",
     "text": [
      "[0 1 2 3 4 5 6 7 8 9]\n"
     ]
    },
    {
     "data": {
      "text/plain": [
       "array([False,  True, False,  True, False,  True, False,  True, False,  True], dtype=bool)"
      ]
     },
     "execution_count": 17,
     "metadata": {},
     "output_type": "execute_result"
    }
   ],
   "source": [
    "#########################################################################################\n",
    "# booleam\n",
    "#########################################################################################\n",
    "print a\n",
    "a%2 > 0"
   ]
  },
  {
   "cell_type": "code",
   "execution_count": 15,
   "metadata": {
    "collapsed": false
   },
   "outputs": [
    {
     "data": {
      "text/plain": [
       "array([1, 3, 5, 7, 9])"
      ]
     },
     "execution_count": 15,
     "metadata": {},
     "output_type": "execute_result"
    }
   ],
   "source": [
    "a[a%2>0]"
   ]
  },
  {
   "cell_type": "code",
   "execution_count": null,
   "metadata": {
    "collapsed": true
   },
   "outputs": [],
   "source": []
  }
 ],
 "metadata": {
  "anaconda-cloud": {},
  "kernelspec": {
   "display_name": "Python [default]",
   "language": "python",
   "name": "python2"
  },
  "language_info": {
   "codemirror_mode": {
    "name": "ipython",
    "version": 2
   },
   "file_extension": ".py",
   "mimetype": "text/x-python",
   "name": "python",
   "nbconvert_exporter": "python",
   "pygments_lexer": "ipython2",
   "version": "2.7.12"
  }
 },
 "nbformat": 4,
 "nbformat_minor": 1
}
